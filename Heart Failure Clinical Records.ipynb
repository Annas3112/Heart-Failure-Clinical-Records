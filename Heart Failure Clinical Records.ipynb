{
  "nbformat": 4,
  "nbformat_minor": 0,
  "metadata": {
    "colab": {
      "provenance": []
    },
    "kernelspec": {
      "name": "python3",
      "display_name": "Python 3"
    },
    "language_info": {
      "name": "python"
    }
  },
  "cells": [
    {
      "cell_type": "code",
      "execution_count": null,
      "metadata": {
        "id": "6VjgLKHG6J_w"
      },
      "outputs": [],
      "source": [
        "import pandas as pd\n",
        "import matplotlib.pyplot as plt\n",
        "import numpy as np\n",
        "import seaborn as sns"
      ]
    },
    {
      "cell_type": "code",
      "source": [
        "def compare_result(pred, test):\n",
        "  data = {'y_pred': pred, 'y_test':test}\n",
        "  df = pd.DataFrame(data)\n",
        "  return df"
      ],
      "metadata": {
        "id": "do_Qk48B2Acv"
      },
      "execution_count": null,
      "outputs": []
    },
    {
      "cell_type": "markdown",
      "source": [
        "# DATA PREPROCESSING"
      ],
      "metadata": {
        "id": "cSaDnBGP85iP"
      }
    },
    {
      "cell_type": "markdown",
      "source": [
        "# Split independet-dependent var"
      ],
      "metadata": {
        "id": "iti_-AjC723K"
      }
    },
    {
      "cell_type": "code",
      "source": [
        "dir = '/content/drive/MyDrive/Semester 5/Sistem Cerdas/'\n",
        "dataset = pd.read_csv(dir + 'Heart Failure Clinical Records.csv')\n",
        "x = dataset.iloc[:, :-1]\n",
        "y = dataset.iloc[:, -1:]"
      ],
      "metadata": {
        "id": "v-7IH96577BA"
      },
      "execution_count": null,
      "outputs": []
    },
    {
      "cell_type": "code",
      "source": [
        "dataset.describe()"
      ],
      "metadata": {
        "colab": {
          "base_uri": "https://localhost:8080/",
          "height": 364
        },
        "id": "sAgymUIdwGDW",
        "outputId": "79416670-79da-4c0f-b3e5-17009e70bd1a"
      },
      "execution_count": null,
      "outputs": [
        {
          "output_type": "execute_result",
          "data": {
            "text/plain": [
              "              age     anaemia  creatinine_phosphokinase    diabetes  \\\n",
              "count  299.000000  299.000000                299.000000  299.000000   \n",
              "mean    60.833893    0.431438                581.839465    0.418060   \n",
              "std     11.894809    0.496107                970.287881    0.494067   \n",
              "min     40.000000    0.000000                 23.000000    0.000000   \n",
              "25%     51.000000    0.000000                116.500000    0.000000   \n",
              "50%     60.000000    0.000000                250.000000    0.000000   \n",
              "75%     70.000000    1.000000                582.000000    1.000000   \n",
              "max     95.000000    1.000000               7861.000000    1.000000   \n",
              "\n",
              "       ejection_fraction  high_blood_pressure      platelets  \\\n",
              "count         299.000000           299.000000     299.000000   \n",
              "mean           38.083612             0.351171  263358.029264   \n",
              "std            11.834841             0.478136   97804.236869   \n",
              "min            14.000000             0.000000   25100.000000   \n",
              "25%            30.000000             0.000000  212500.000000   \n",
              "50%            38.000000             0.000000  262000.000000   \n",
              "75%            45.000000             1.000000  303500.000000   \n",
              "max            80.000000             1.000000  850000.000000   \n",
              "\n",
              "       serum_creatinine  serum_sodium         sex    smoking        time  \\\n",
              "count         299.00000    299.000000  299.000000  299.00000  299.000000   \n",
              "mean            1.39388    136.625418    0.648829    0.32107  130.260870   \n",
              "std             1.03451      4.412477    0.478136    0.46767   77.614208   \n",
              "min             0.50000    113.000000    0.000000    0.00000    4.000000   \n",
              "25%             0.90000    134.000000    0.000000    0.00000   73.000000   \n",
              "50%             1.10000    137.000000    1.000000    0.00000  115.000000   \n",
              "75%             1.40000    140.000000    1.000000    1.00000  203.000000   \n",
              "max             9.40000    148.000000    1.000000    1.00000  285.000000   \n",
              "\n",
              "       DEATH_EVENT  \n",
              "count    299.00000  \n",
              "mean       0.32107  \n",
              "std        0.46767  \n",
              "min        0.00000  \n",
              "25%        0.00000  \n",
              "50%        0.00000  \n",
              "75%        1.00000  \n",
              "max        1.00000  "
            ],
            "text/html": [
              "\n",
              "  <div id=\"df-f0ad27d8-6dab-405a-8b41-42d56c35e615\">\n",
              "    <div class=\"colab-df-container\">\n",
              "      <div>\n",
              "<style scoped>\n",
              "    .dataframe tbody tr th:only-of-type {\n",
              "        vertical-align: middle;\n",
              "    }\n",
              "\n",
              "    .dataframe tbody tr th {\n",
              "        vertical-align: top;\n",
              "    }\n",
              "\n",
              "    .dataframe thead th {\n",
              "        text-align: right;\n",
              "    }\n",
              "</style>\n",
              "<table border=\"1\" class=\"dataframe\">\n",
              "  <thead>\n",
              "    <tr style=\"text-align: right;\">\n",
              "      <th></th>\n",
              "      <th>age</th>\n",
              "      <th>anaemia</th>\n",
              "      <th>creatinine_phosphokinase</th>\n",
              "      <th>diabetes</th>\n",
              "      <th>ejection_fraction</th>\n",
              "      <th>high_blood_pressure</th>\n",
              "      <th>platelets</th>\n",
              "      <th>serum_creatinine</th>\n",
              "      <th>serum_sodium</th>\n",
              "      <th>sex</th>\n",
              "      <th>smoking</th>\n",
              "      <th>time</th>\n",
              "      <th>DEATH_EVENT</th>\n",
              "    </tr>\n",
              "  </thead>\n",
              "  <tbody>\n",
              "    <tr>\n",
              "      <th>count</th>\n",
              "      <td>299.000000</td>\n",
              "      <td>299.000000</td>\n",
              "      <td>299.000000</td>\n",
              "      <td>299.000000</td>\n",
              "      <td>299.000000</td>\n",
              "      <td>299.000000</td>\n",
              "      <td>299.000000</td>\n",
              "      <td>299.00000</td>\n",
              "      <td>299.000000</td>\n",
              "      <td>299.000000</td>\n",
              "      <td>299.00000</td>\n",
              "      <td>299.000000</td>\n",
              "      <td>299.00000</td>\n",
              "    </tr>\n",
              "    <tr>\n",
              "      <th>mean</th>\n",
              "      <td>60.833893</td>\n",
              "      <td>0.431438</td>\n",
              "      <td>581.839465</td>\n",
              "      <td>0.418060</td>\n",
              "      <td>38.083612</td>\n",
              "      <td>0.351171</td>\n",
              "      <td>263358.029264</td>\n",
              "      <td>1.39388</td>\n",
              "      <td>136.625418</td>\n",
              "      <td>0.648829</td>\n",
              "      <td>0.32107</td>\n",
              "      <td>130.260870</td>\n",
              "      <td>0.32107</td>\n",
              "    </tr>\n",
              "    <tr>\n",
              "      <th>std</th>\n",
              "      <td>11.894809</td>\n",
              "      <td>0.496107</td>\n",
              "      <td>970.287881</td>\n",
              "      <td>0.494067</td>\n",
              "      <td>11.834841</td>\n",
              "      <td>0.478136</td>\n",
              "      <td>97804.236869</td>\n",
              "      <td>1.03451</td>\n",
              "      <td>4.412477</td>\n",
              "      <td>0.478136</td>\n",
              "      <td>0.46767</td>\n",
              "      <td>77.614208</td>\n",
              "      <td>0.46767</td>\n",
              "    </tr>\n",
              "    <tr>\n",
              "      <th>min</th>\n",
              "      <td>40.000000</td>\n",
              "      <td>0.000000</td>\n",
              "      <td>23.000000</td>\n",
              "      <td>0.000000</td>\n",
              "      <td>14.000000</td>\n",
              "      <td>0.000000</td>\n",
              "      <td>25100.000000</td>\n",
              "      <td>0.50000</td>\n",
              "      <td>113.000000</td>\n",
              "      <td>0.000000</td>\n",
              "      <td>0.00000</td>\n",
              "      <td>4.000000</td>\n",
              "      <td>0.00000</td>\n",
              "    </tr>\n",
              "    <tr>\n",
              "      <th>25%</th>\n",
              "      <td>51.000000</td>\n",
              "      <td>0.000000</td>\n",
              "      <td>116.500000</td>\n",
              "      <td>0.000000</td>\n",
              "      <td>30.000000</td>\n",
              "      <td>0.000000</td>\n",
              "      <td>212500.000000</td>\n",
              "      <td>0.90000</td>\n",
              "      <td>134.000000</td>\n",
              "      <td>0.000000</td>\n",
              "      <td>0.00000</td>\n",
              "      <td>73.000000</td>\n",
              "      <td>0.00000</td>\n",
              "    </tr>\n",
              "    <tr>\n",
              "      <th>50%</th>\n",
              "      <td>60.000000</td>\n",
              "      <td>0.000000</td>\n",
              "      <td>250.000000</td>\n",
              "      <td>0.000000</td>\n",
              "      <td>38.000000</td>\n",
              "      <td>0.000000</td>\n",
              "      <td>262000.000000</td>\n",
              "      <td>1.10000</td>\n",
              "      <td>137.000000</td>\n",
              "      <td>1.000000</td>\n",
              "      <td>0.00000</td>\n",
              "      <td>115.000000</td>\n",
              "      <td>0.00000</td>\n",
              "    </tr>\n",
              "    <tr>\n",
              "      <th>75%</th>\n",
              "      <td>70.000000</td>\n",
              "      <td>1.000000</td>\n",
              "      <td>582.000000</td>\n",
              "      <td>1.000000</td>\n",
              "      <td>45.000000</td>\n",
              "      <td>1.000000</td>\n",
              "      <td>303500.000000</td>\n",
              "      <td>1.40000</td>\n",
              "      <td>140.000000</td>\n",
              "      <td>1.000000</td>\n",
              "      <td>1.00000</td>\n",
              "      <td>203.000000</td>\n",
              "      <td>1.00000</td>\n",
              "    </tr>\n",
              "    <tr>\n",
              "      <th>max</th>\n",
              "      <td>95.000000</td>\n",
              "      <td>1.000000</td>\n",
              "      <td>7861.000000</td>\n",
              "      <td>1.000000</td>\n",
              "      <td>80.000000</td>\n",
              "      <td>1.000000</td>\n",
              "      <td>850000.000000</td>\n",
              "      <td>9.40000</td>\n",
              "      <td>148.000000</td>\n",
              "      <td>1.000000</td>\n",
              "      <td>1.00000</td>\n",
              "      <td>285.000000</td>\n",
              "      <td>1.00000</td>\n",
              "    </tr>\n",
              "  </tbody>\n",
              "</table>\n",
              "</div>\n",
              "      <button class=\"colab-df-convert\" onclick=\"convertToInteractive('df-f0ad27d8-6dab-405a-8b41-42d56c35e615')\"\n",
              "              title=\"Convert this dataframe to an interactive table.\"\n",
              "              style=\"display:none;\">\n",
              "        \n",
              "  <svg xmlns=\"http://www.w3.org/2000/svg\" height=\"24px\"viewBox=\"0 0 24 24\"\n",
              "       width=\"24px\">\n",
              "    <path d=\"M0 0h24v24H0V0z\" fill=\"none\"/>\n",
              "    <path d=\"M18.56 5.44l.94 2.06.94-2.06 2.06-.94-2.06-.94-.94-2.06-.94 2.06-2.06.94zm-11 1L8.5 8.5l.94-2.06 2.06-.94-2.06-.94L8.5 2.5l-.94 2.06-2.06.94zm10 10l.94 2.06.94-2.06 2.06-.94-2.06-.94-.94-2.06-.94 2.06-2.06.94z\"/><path d=\"M17.41 7.96l-1.37-1.37c-.4-.4-.92-.59-1.43-.59-.52 0-1.04.2-1.43.59L10.3 9.45l-7.72 7.72c-.78.78-.78 2.05 0 2.83L4 21.41c.39.39.9.59 1.41.59.51 0 1.02-.2 1.41-.59l7.78-7.78 2.81-2.81c.8-.78.8-2.07 0-2.86zM5.41 20L4 18.59l7.72-7.72 1.47 1.35L5.41 20z\"/>\n",
              "  </svg>\n",
              "      </button>\n",
              "      \n",
              "  <style>\n",
              "    .colab-df-container {\n",
              "      display:flex;\n",
              "      flex-wrap:wrap;\n",
              "      gap: 12px;\n",
              "    }\n",
              "\n",
              "    .colab-df-convert {\n",
              "      background-color: #E8F0FE;\n",
              "      border: none;\n",
              "      border-radius: 50%;\n",
              "      cursor: pointer;\n",
              "      display: none;\n",
              "      fill: #1967D2;\n",
              "      height: 32px;\n",
              "      padding: 0 0 0 0;\n",
              "      width: 32px;\n",
              "    }\n",
              "\n",
              "    .colab-df-convert:hover {\n",
              "      background-color: #E2EBFA;\n",
              "      box-shadow: 0px 1px 2px rgba(60, 64, 67, 0.3), 0px 1px 3px 1px rgba(60, 64, 67, 0.15);\n",
              "      fill: #174EA6;\n",
              "    }\n",
              "\n",
              "    [theme=dark] .colab-df-convert {\n",
              "      background-color: #3B4455;\n",
              "      fill: #D2E3FC;\n",
              "    }\n",
              "\n",
              "    [theme=dark] .colab-df-convert:hover {\n",
              "      background-color: #434B5C;\n",
              "      box-shadow: 0px 1px 3px 1px rgba(0, 0, 0, 0.15);\n",
              "      filter: drop-shadow(0px 1px 2px rgba(0, 0, 0, 0.3));\n",
              "      fill: #FFFFFF;\n",
              "    }\n",
              "  </style>\n",
              "\n",
              "      <script>\n",
              "        const buttonEl =\n",
              "          document.querySelector('#df-f0ad27d8-6dab-405a-8b41-42d56c35e615 button.colab-df-convert');\n",
              "        buttonEl.style.display =\n",
              "          google.colab.kernel.accessAllowed ? 'block' : 'none';\n",
              "\n",
              "        async function convertToInteractive(key) {\n",
              "          const element = document.querySelector('#df-f0ad27d8-6dab-405a-8b41-42d56c35e615');\n",
              "          const dataTable =\n",
              "            await google.colab.kernel.invokeFunction('convertToInteractive',\n",
              "                                                     [key], {});\n",
              "          if (!dataTable) return;\n",
              "\n",
              "          const docLinkHtml = 'Like what you see? Visit the ' +\n",
              "            '<a target=\"_blank\" href=https://colab.research.google.com/notebooks/data_table.ipynb>data table notebook</a>'\n",
              "            + ' to learn more about interactive tables.';\n",
              "          element.innerHTML = '';\n",
              "          dataTable['output_type'] = 'display_data';\n",
              "          await google.colab.output.renderOutput(dataTable, element);\n",
              "          const docLink = document.createElement('div');\n",
              "          docLink.innerHTML = docLinkHtml;\n",
              "          element.appendChild(docLink);\n",
              "        }\n",
              "      </script>\n",
              "    </div>\n",
              "  </div>\n",
              "  "
            ]
          },
          "metadata": {},
          "execution_count": 4
        }
      ]
    },
    {
      "cell_type": "code",
      "source": [
        "plt.figure(1, figsize=(25,15))\n",
        "plt.title('Heatmap Heart Failure Clinical Records')\n",
        "sns.heatmap(dataset.corr(), cmap=\"BrBG\", annot=True, annot_kws={'size': 12}, square=True, center=0)"
      ],
      "metadata": {
        "colab": {
          "base_uri": "https://localhost:8080/",
          "height": 1000
        },
        "id": "AABAtmXSq866",
        "outputId": "783dd387-abec-4c1a-f32b-07f8cbc785cf"
      },
      "execution_count": null,
      "outputs": [
        {
          "output_type": "execute_result",
          "data": {
            "text/plain": [
              "<matplotlib.axes._subplots.AxesSubplot at 0x7fd3d8491b90>"
            ]
          },
          "metadata": {},
          "execution_count": 5
        },
        {
          "output_type": "display_data",
          "data": {
            "text/plain": [
              "<Figure size 1800x1080 with 2 Axes>"
            ],
            "image/png": "[encoded data removed]"
          },
          "metadata": {
            "needs_background": "light"
          }
        }
      ]
    },
    {
      "cell_type": "markdown",
      "source": [
        "Melalui heatmap dapat diketahui bahwa 'Ejection_fraction' , 'serum_sodium', dan 'time' memiliki pengaruh kecil terhadap independent variabel (DEATH_EVENT)"
      ],
      "metadata": {
        "id": "IMqk87qxu2gl"
      }
    },
    {
      "cell_type": "code",
      "source": [
        "x = x.drop(columns=['ejection_fraction', 'serum_sodium', 'time'], axis=1)\n",
        "\n",
        "print(x)\n",
        "print(y)"
      ],
      "metadata": {
        "colab": {
          "base_uri": "https://localhost:8080/"
        },
        "id": "-spRJDjVjF_g",
        "outputId": "2e4b81e6-10eb-4512-bbd1-dc86996df3d9"
      },
      "execution_count": null,
      "outputs": [
        {
          "output_type": "stream",
          "name": "stdout",
          "text": [
            "      age  anaemia  creatinine_phosphokinase  diabetes  high_blood_pressure  \\\n",
            "0    75.0        0                       582         0                    1   \n",
            "1    55.0        0                      7861         0                    0   \n",
            "2    65.0        0                       146         0                    0   \n",
            "3    50.0        1                       111         0                    0   \n",
            "4    65.0        1                       160         1                    0   \n",
            "..    ...      ...                       ...       ...                  ...   \n",
            "294  62.0        0                        61         1                    1   \n",
            "295  55.0        0                      1820         0                    0   \n",
            "296  45.0        0                      2060         1                    0   \n",
            "297  45.0        0                      2413         0                    0   \n",
            "298  50.0        0                       196         0                    0   \n",
            "\n",
            "     platelets  serum_creatinine  sex  smoking  \n",
            "0    265000.00               1.9    1        0  \n",
            "1    263358.03               1.1    1        0  \n",
            "2    162000.00               1.3    1        1  \n",
            "3    210000.00               1.9    1        0  \n",
            "4    327000.00               2.7    0        0  \n",
            "..         ...               ...  ...      ...  \n",
            "294  155000.00               1.1    1        1  \n",
            "295  270000.00               1.2    0        0  \n",
            "296  742000.00               0.8    0        0  \n",
            "297  140000.00               1.4    1        1  \n",
            "298  395000.00               1.6    1        1  \n",
            "\n",
            "[299 rows x 9 columns]\n",
            "     DEATH_EVENT\n",
            "0              1\n",
            "1              1\n",
            "2              1\n",
            "3              1\n",
            "4              1\n",
            "..           ...\n",
            "294            0\n",
            "295            0\n",
            "296            0\n",
            "297            0\n",
            "298            0\n",
            "\n",
            "[299 rows x 1 columns]\n"
          ]
        }
      ]
    },
    {
      "cell_type": "code",
      "source": [
        "for idx,data in enumerate(x['age']):\n",
        "  target = x.loc[dataset.index == idx, 'age']\n",
        "  if target.values <= 15:\n",
        "    x.loc[dataset.index == idx, 'age'] = 'anak-anak'\n",
        "  elif target.values > 15 and target.values <= 24:\n",
        "    x.loc[dataset.index == idx, 'age'] = 'muda'\n",
        "  elif target.values > 24 and target.values <= 34:\n",
        "    x.loc[dataset.index == idx, 'age'] = 'pekerja awal'\n",
        "  elif target.values > 34 and target.values <= 44:\n",
        "    x.loc[dataset.index == idx, 'age'] = 'paruh baya'\n",
        "  elif target.values > 44 and target.values <= 54:\n",
        "    x.loc[dataset.index == idx, 'age'] = 'pra-pensiun'\n",
        "  elif target.values > 54 and target.values <= 64:\n",
        "    x.loc[dataset.index == idx, 'age'] = 'pensiun'\n",
        "  else:\n",
        "    x.loc[dataset.index == idx, 'age'] = 'lanjut'"
      ],
      "metadata": {
        "id": "hhMFcGQdk0cl"
      },
      "execution_count": null,
      "outputs": []
    },
    {
      "cell_type": "code",
      "source": [
        "print(x)"
      ],
      "metadata": {
        "colab": {
          "base_uri": "https://localhost:8080/"
        },
        "id": "7Pl_Frc3u-j3",
        "outputId": "36bb18ac-a7cf-465a-d5e8-8801a67aae8b"
      },
      "execution_count": null,
      "outputs": [
        {
          "output_type": "stream",
          "name": "stdout",
          "text": [
            "             age  anaemia  creatinine_phosphokinase  diabetes  \\\n",
            "0         lanjut        0                       582         0   \n",
            "1        pensiun        0                      7861         0   \n",
            "2         lanjut        0                       146         0   \n",
            "3    pra-pensiun        1                       111         0   \n",
            "4         lanjut        1                       160         1   \n",
            "..           ...      ...                       ...       ...   \n",
            "294      pensiun        0                        61         1   \n",
            "295      pensiun        0                      1820         0   \n",
            "296  pra-pensiun        0                      2060         1   \n",
            "297  pra-pensiun        0                      2413         0   \n",
            "298  pra-pensiun        0                       196         0   \n",
            "\n",
            "     high_blood_pressure  platelets  serum_creatinine  sex  smoking  \n",
            "0                      1  265000.00               1.9    1        0  \n",
            "1                      0  263358.03               1.1    1        0  \n",
            "2                      0  162000.00               1.3    1        1  \n",
            "3                      0  210000.00               1.9    1        0  \n",
            "4                      0  327000.00               2.7    0        0  \n",
            "..                   ...        ...               ...  ...      ...  \n",
            "294                    1  155000.00               1.1    1        1  \n",
            "295                    0  270000.00               1.2    0        0  \n",
            "296                    0  742000.00               0.8    0        0  \n",
            "297                    0  140000.00               1.4    1        1  \n",
            "298                    0  395000.00               1.6    1        1  \n",
            "\n",
            "[299 rows x 9 columns]\n"
          ]
        }
      ]
    },
    {
      "cell_type": "markdown",
      "source": [
        "# Merubah kategorical data pada independet var menjadi data biner (jika ada)"
      ],
      "metadata": {
        "id": "p420LLwr66hs"
      }
    },
    {
      "cell_type": "code",
      "source": [
        "from sklearn.compose import ColumnTransformer\n",
        "from sklearn.preprocessing import OneHotEncoder"
      ],
      "metadata": {
        "id": "ptT9zlO86_ni"
      },
      "execution_count": null,
      "outputs": []
    },
    {
      "cell_type": "markdown",
      "source": [
        "# Merubah data huruf pada dependent var menjadi data biner (jika ada)"
      ],
      "metadata": {
        "id": "Bcp2qbYx8XtG"
      }
    },
    {
      "cell_type": "code",
      "source": [
        "from sklearn.preprocessing import LabelEncoder"
      ],
      "metadata": {
        "id": "eHm58eIS8gmN"
      },
      "execution_count": null,
      "outputs": []
    },
    {
      "cell_type": "code",
      "source": [
        "le = LabelEncoder()\n",
        "x['age'] = le.fit_transform(x.age.values)"
      ],
      "metadata": {
        "id": "PTKYhu_58mSW"
      },
      "execution_count": null,
      "outputs": []
    },
    {
      "cell_type": "code",
      "source": [
        "print(x)"
      ],
      "metadata": {
        "colab": {
          "base_uri": "https://localhost:8080/"
        },
        "id": "DgjBxr2nwrO4",
        "outputId": "0085adca-1726-4d74-c7e5-2b0223c7e637"
      },
      "execution_count": null,
      "outputs": [
        {
          "output_type": "stream",
          "name": "stdout",
          "text": [
            "     age  anaemia  creatinine_phosphokinase  diabetes  high_blood_pressure  \\\n",
            "0      0        0                       582         0                    1   \n",
            "1      2        0                      7861         0                    0   \n",
            "2      0        0                       146         0                    0   \n",
            "3      3        1                       111         0                    0   \n",
            "4      0        1                       160         1                    0   \n",
            "..   ...      ...                       ...       ...                  ...   \n",
            "294    2        0                        61         1                    1   \n",
            "295    2        0                      1820         0                    0   \n",
            "296    3        0                      2060         1                    0   \n",
            "297    3        0                      2413         0                    0   \n",
            "298    3        0                       196         0                    0   \n",
            "\n",
            "     platelets  serum_creatinine  sex  smoking  \n",
            "0    265000.00               1.9    1        0  \n",
            "1    263358.03               1.1    1        0  \n",
            "2    162000.00               1.3    1        1  \n",
            "3    210000.00               1.9    1        0  \n",
            "4    327000.00               2.7    0        0  \n",
            "..         ...               ...  ...      ...  \n",
            "294  155000.00               1.1    1        1  \n",
            "295  270000.00               1.2    0        0  \n",
            "296  742000.00               0.8    0        0  \n",
            "297  140000.00               1.4    1        1  \n",
            "298  395000.00               1.6    1        1  \n",
            "\n",
            "[299 rows x 9 columns]\n"
          ]
        }
      ]
    },
    {
      "cell_type": "markdown",
      "source": [
        "# Split training-test set"
      ],
      "metadata": {
        "id": "t-QBnYAw8-Wf"
      }
    },
    {
      "cell_type": "code",
      "source": [
        "from sklearn.model_selection import train_test_split"
      ],
      "metadata": {
        "id": "WqTG2DSu9CLQ"
      },
      "execution_count": null,
      "outputs": []
    },
    {
      "cell_type": "code",
      "source": [
        "x_train, x_test, y_train, y_test = train_test_split(x,y, test_size=0.25)"
      ],
      "metadata": {
        "id": "PAt2_hvy9R4D"
      },
      "execution_count": null,
      "outputs": []
    },
    {
      "cell_type": "markdown",
      "source": [
        "# Standarisasi data jika antara fitur satu dengan yang lainnya memiliki selisih jauh"
      ],
      "metadata": {
        "id": "UmyZAE4n9fky"
      }
    },
    {
      "cell_type": "code",
      "source": [
        "from sklearn.preprocessing import StandardScaler"
      ],
      "metadata": {
        "id": "bCZk62-59pUQ"
      },
      "execution_count": null,
      "outputs": []
    },
    {
      "cell_type": "code",
      "source": [
        "sc = StandardScaler()\n",
        "x_train = sc.fit_transform(x_train)\n",
        "x_test = sc.transform(x_test)"
      ],
      "metadata": {
        "id": "tC26HzE6xENS"
      },
      "execution_count": null,
      "outputs": []
    },
    {
      "cell_type": "code",
      "source": [
        "print(x_train)\n",
        "print(x_test)"
      ],
      "metadata": {
        "colab": {
          "base_uri": "https://localhost:8080/"
        },
        "id": "cIz9JE96xSGh",
        "outputId": "909d6d86-8408-4499-9e0a-da5077885ee1"
      },
      "execution_count": null,
      "outputs": [
        {
          "output_type": "stream",
          "name": "stdout",
          "text": [
            "[[ 0.51305346 -0.8660254  -0.52081894 ... -0.28435116  0.70947565\n",
            "   1.40949163]\n",
            " [-1.10559408  1.15470054 -0.31997542 ... -0.28435116  0.70947565\n",
            "  -0.70947565]\n",
            " [-1.10559408 -0.8660254   0.16266385 ... -0.10588476 -1.40949163\n",
            "  -0.70947565]\n",
            " ...\n",
            " [-1.10559408  1.15470054 -0.06584688 ...  2.66034455  0.70947565\n",
            "  -0.70947565]\n",
            " [ 0.51305346  1.15470054  0.14012019 ... -0.19511796  0.70947565\n",
            "  -0.70947565]\n",
            " [ 1.32237723  1.15470054 -0.51876951 ...  0.42951446  0.70947565\n",
            "  -0.70947565]]\n",
            "[[ 5.13053460e-01  1.15470054e+00 -3.95804094e-01  1.17600116e+00\n",
            "  -6.95301164e-01 -6.74404569e-01  2.51048058e-01  7.09475655e-01\n",
            "  -7.09475655e-01]\n",
            " [-1.10559408e+00 -8.66025404e-01 -3.61302413e-02 -8.50339299e-01\n",
            "  -6.95301164e-01  6.25499292e-02 -2.12964601e-01  7.09475655e-01\n",
            "  -7.09475655e-01]\n",
            " [ 5.13053460e-01 -8.66025404e-01 -3.73260434e-01 -8.50339299e-01\n",
            "  -6.95301164e-01  2.28751595e-01  2.51048058e-01  7.09475655e-01\n",
            "  -7.09475655e-01]\n",
            " [-1.10559408e+00  1.15470054e+00 -5.58733275e-01 -8.50339299e-01\n",
            "   1.43822570e+00 -1.64386970e-01 -1.95117960e-01  7.09475655e-01\n",
            "  -7.09475655e-01]\n",
            " [-1.10559408e+00  1.15470054e+00 -5.76153377e-01 -8.50339299e-01\n",
            "   1.43822570e+00 -9.08162635e-01  3.40281261e-01  7.09475655e-01\n",
            "  -7.09475655e-01]\n",
            " [-1.10559408e+00 -8.66025404e-01 -3.61302413e-02  1.17600116e+00\n",
            "   1.43822570e+00  6.25499292e-02  3.67051222e-01  7.09475655e-01\n",
            "  -7.09475655e-01]\n",
            " [ 5.13053460e-01  1.15470054e+00 -3.45593214e-01  1.17600116e+00\n",
            "   1.43822570e+00  4.73135028e-01 -3.73584368e-01 -1.40949163e+00\n",
            "  -7.09475655e-01]\n",
            " [ 5.13053460e-01  1.15470054e+00 -2.22627795e-01 -8.50339299e-01\n",
            "  -6.95301164e-01 -9.93165568e-01 -3.73584368e-01 -1.40949163e+00\n",
            "  -7.09475655e-01]\n",
            " [ 5.13053460e-01 -8.66025404e-01 -5.78202800e-01 -8.50339299e-01\n",
            "   1.43822570e+00  3.03129162e-01  7.86447279e-01 -1.40949163e+00\n",
            "  -7.09475655e-01]\n",
            " [ 5.13053460e-01 -8.66025404e-01  1.31034111e+00  1.17600116e+00\n",
            "  -6.95301164e-01  1.14253313e+00  6.07980872e-01 -1.40949163e+00\n",
            "  -7.09475655e-01]\n",
            " [-2.96270308e-01 -8.66025404e-01 -3.82482840e-01 -8.50339299e-01\n",
            "   1.43822570e+00  1.86250129e-01 -4.62817571e-01 -1.40949163e+00\n",
            "  -7.09475655e-01]\n",
            " [ 1.32237723e+00 -8.66025404e-01 -4.97250566e-01 -8.50339299e-01\n",
            "  -6.95301164e-01 -4.19395770e-01 -6.41283978e-01  7.09475655e-01\n",
            "   1.40949163e+00]\n",
            " [-1.10559408e+00 -8.66025404e-01 -4.15273619e-01  1.17600116e+00\n",
            "   1.43822570e+00  1.39754193e+00 -3.73584368e-01  7.09475655e-01\n",
            "   1.40949163e+00]\n",
            " [ 1.32237723e+00  1.15470054e+00 -5.39263751e-01 -8.50339299e-01\n",
            "   1.43822570e+00  1.70567756e+00 -1.66515532e-02 -1.40949163e+00\n",
            "  -7.09475655e-01]\n",
            " [ 1.32237723e+00  1.15470054e+00 -4.99299989e-01 -8.50339299e-01\n",
            "  -6.95301164e-01 -8.86911902e-01 -5.52050775e-01  7.09475655e-01\n",
            "   1.40949163e+00]\n",
            " [ 5.13053460e-01  1.15470054e+00 -3.61302413e-02 -8.50339299e-01\n",
            "   1.43822570e+00 -1.38630413e+00 -4.62817571e-01 -1.40949163e+00\n",
            "  -7.09475655e-01]\n",
            " [-1.10559408e+00  1.15470054e+00 -5.79227512e-01 -8.50339299e-01\n",
            "   1.43822570e+00  1.96875495e-01 -1.05884757e-01 -1.40949163e+00\n",
            "  -7.09475655e-01]\n",
            " [ 1.32237723e+00 -8.66025404e-01 -3.16901283e-01  1.17600116e+00\n",
            "   1.43822570e+00  1.27003753e+00 -3.73584368e-01  7.09475655e-01\n",
            "  -7.09475655e-01]\n",
            " [ 5.13053460e-01 -8.66025404e-01 -3.61302413e-02  1.17600116e+00\n",
            "  -6.95301164e-01  2.61945909e+00 -3.73584368e-01  7.09475655e-01\n",
            "  -7.09475655e-01]\n",
            " [-1.10559408e+00  1.15470054e+00 -4.85978735e-01 -8.50339299e-01\n",
            "  -6.95301164e-01  9.93777993e-01 -1.05884757e-01 -1.40949163e+00\n",
            "  -7.09475655e-01]\n",
            " [ 1.32237723e+00 -8.66025404e-01 -4.42940838e-01 -8.50339299e-01\n",
            "  -6.95301164e-01  9.06218290e-02 -6.41283978e-01  7.09475655e-01\n",
            "   1.40949163e+00]\n",
            " [ 5.13053460e-01  1.15470054e+00 -4.77781041e-01  1.17600116e+00\n",
            "   1.43822570e+00 -6.00027002e-01 -3.73584368e-01 -1.40949163e+00\n",
            "  -7.09475655e-01]\n",
            " [ 1.32237723e+00  1.15470054e+00 -3.77359281e-01  1.17600116e+00\n",
            "   1.43822570e+00  6.53766261e-01 -3.73584368e-01 -1.40949163e+00\n",
            "  -7.09475655e-01]\n",
            " [-1.10559408e+00  1.15470054e+00 -3.61302413e-02 -8.50339299e-01\n",
            "  -6.95301164e-01 -3.45018203e-01  3.67051222e-01  7.09475655e-01\n",
            "  -7.09475655e-01]\n",
            " [ 5.13053460e-01  1.15470054e+00 -4.27570161e-01  1.17600116e+00\n",
            "  -6.95301164e-01  4.51884295e-01 -5.52050775e-01 -1.40949163e+00\n",
            "  -7.09475655e-01]\n",
            " [ 5.13053460e-01  1.15470054e+00 -3.61302413e-02 -8.50339299e-01\n",
            "  -6.95301164e-01  2.02443856e+00 -4.62817571e-01  7.09475655e-01\n",
            "   1.40949163e+00]\n",
            " [ 1.32237723e+00 -8.66025404e-01  7.25981800e+00  1.17600116e+00\n",
            "   1.43822570e+00  1.40816729e+00 -3.73584368e-01  7.09475655e-01\n",
            "  -7.09475655e-01]\n",
            " [ 5.13053460e-01 -8.66025404e-01  1.68436092e+00 -8.50339299e-01\n",
            "   1.43822570e+00 -3.13142103e-01 -4.62817571e-01  7.09475655e-01\n",
            "  -7.09475655e-01]\n",
            " [ 5.13053460e-01  1.15470054e+00 -4.96225854e-01 -8.50339299e-01\n",
            "   1.43822570e+00 -4.08770403e-01 -3.73584368e-01  7.09475655e-01\n",
            "  -7.09475655e-01]\n",
            " [-1.10559408e+00 -8.66025404e-01 -5.38239039e-01 -8.50339299e-01\n",
            "   1.43822570e+00  6.32515528e-01 -5.52050775e-01 -1.40949163e+00\n",
            "   1.40949163e+00]\n",
            " [ 1.32237723e+00 -8.66025404e-01 -3.76334569e-01 -8.50339299e-01\n",
            "  -6.95301164e-01  4.81203625e-02 -3.73584368e-01  7.09475655e-01\n",
            "   1.40949163e+00]\n",
            " [ 1.32237723e+00 -8.66025404e-01 -4.37817279e-01  1.17600116e+00\n",
            "  -6.95301164e-01  1.32316436e+00 -3.73584368e-01  7.09475655e-01\n",
            "   1.40949163e+00]\n",
            " [ 1.32237723e+00 -8.66025404e-01  1.75985108e-01 -8.50339299e-01\n",
            "   1.43822570e+00  6.53766261e-01 -2.84351164e-01  7.09475655e-01\n",
            "   1.40949163e+00]\n",
            " [-1.10559408e+00  1.15470054e+00 -5.19794226e-01 -8.50339299e-01\n",
            "  -6.95301164e-01  1.75624762e-01 -3.73584368e-01  7.09475655e-01\n",
            "   1.40949163e+00]\n",
            " [ 5.13053460e-01 -8.66025404e-01  5.96116959e-01 -8.50339299e-01\n",
            "  -6.95301164e-01  6.25499292e-02  3.67051222e-01  7.09475655e-01\n",
            "   1.40949163e+00]\n",
            " [ 1.32237723e+00 -8.66025404e-01 -4.60360940e-01  1.17600116e+00\n",
            "   1.43822570e+00  1.43748662e-01  6.07980872e-01 -1.40949163e+00\n",
            "  -7.09475655e-01]\n",
            " [ 1.32237723e+00  1.15470054e+00 -5.61807411e-01 -8.50339299e-01\n",
            "  -6.95301164e-01 -1.33317730e+00 -3.73584368e-01 -1.40949163e+00\n",
            "  -7.09475655e-01]\n",
            " [ 5.13053460e-01  1.15470054e+00 -2.99819703e-02  1.17600116e+00\n",
            "  -6.95301164e-01 -6.74404569e-01 -2.84351164e-01 -1.40949163e+00\n",
            "  -7.09475655e-01]\n",
            " [ 5.13053460e-01  1.15470054e+00 -4.83929312e-01 -8.50339299e-01\n",
            "  -6.95301164e-01 -4.08770403e-01 -1.95117960e-01  7.09475655e-01\n",
            "   1.40949163e+00]\n",
            " [-1.10559408e+00  1.15470054e+00 -4.12538004e-02 -8.50339299e-01\n",
            "   1.43822570e+00 -9.71914835e-01 -3.73584368e-01  7.09475655e-01\n",
            "  -7.09475655e-01]\n",
            " [-1.10559408e+00  1.15470054e+00 -5.01349413e-01  1.17600116e+00\n",
            "   1.43822570e+00  4.20008195e-01  1.61814854e-01 -1.40949163e+00\n",
            "  -7.09475655e-01]\n",
            " [ 5.13053460e-01 -8.66025404e-01 -3.61302413e-02  1.17600116e+00\n",
            "   1.43822570e+00  1.20628533e+00 -6.41283978e-01 -1.40949163e+00\n",
            "  -7.09475655e-01]\n",
            " [-1.10559408e+00 -8.66025404e-01 -5.10571819e-01 -8.50339299e-01\n",
            "   1.43822570e+00 -1.00634770e-01 -2.84351164e-01  7.09475655e-01\n",
            "  -7.09475655e-01]\n",
            " [ 5.13053460e-01  1.15470054e+00 -5.68980394e-01 -8.50339299e-01\n",
            "  -6.95301164e-01  5.47512594e-01  7.25816504e-02 -1.40949163e+00\n",
            "  -7.09475655e-01]\n",
            " [-1.10559408e+00  1.15470054e+00 -4.79830464e-01 -8.50339299e-01\n",
            "  -6.95301164e-01  4.81203625e-02 -4.62817571e-01  7.09475655e-01\n",
            "  -7.09475655e-01]\n",
            " [-1.10559408e+00 -8.66025404e-01 -5.75128665e-01 -8.50339299e-01\n",
            "  -6.95301164e-01 -2.17513803e-01  3.19574378e+00 -1.40949163e+00\n",
            "  -7.09475655e-01]\n",
            " [ 5.13053460e-01  1.15470054e+00 -5.34140191e-01  1.17600116e+00\n",
            "   1.43822570e+00  1.43748662e-01 -6.41283978e-01 -1.40949163e+00\n",
            "  -7.09475655e-01]\n",
            " [ 1.32237723e+00 -8.66025404e-01 -3.61302413e-02 -8.50339299e-01\n",
            "   1.43822570e+00 -1.39692950e+00  1.61814854e-01  7.09475655e-01\n",
            "  -7.09475655e-01]\n",
            " [-1.10559408e+00 -8.66025404e-01 -2.59517421e-01  1.17600116e+00\n",
            "   1.43822570e+00 -3.68825706e-02 -1.05884757e-01  7.09475655e-01\n",
            "   1.40949163e+00]\n",
            " [ 1.32237723e+00 -8.66025404e-01 -2.54393861e-01  1.17600116e+00\n",
            "  -6.95301164e-01 -5.81333039e-02  1.61814854e-01  7.09475655e-01\n",
            "  -7.09475655e-01]\n",
            " [ 1.32237723e+00 -8.66025404e-01 -3.61302413e-02  1.17600116e+00\n",
            "  -6.95301164e-01  3.03384839e+00 -3.73584368e-01 -1.40949163e+00\n",
            "  -7.09475655e-01]\n",
            " [ 1.32237723e+00 -8.66025404e-01 -3.61302413e-02 -8.50339299e-01\n",
            "  -6.95301164e-01  6.25499292e-02 -2.12964601e-01 -1.40949163e+00\n",
            "  -7.09475655e-01]\n",
            " [ 5.13053460e-01 -8.66025404e-01 -4.85978735e-01 -8.50339299e-01\n",
            "  -6.95301164e-01 -1.21885504e-01  8.75680483e-01  7.09475655e-01\n",
            "  -7.09475655e-01]\n",
            " [ 1.32237723e+00  1.15470054e+00 -5.77178088e-01 -8.50339299e-01\n",
            "  -6.95301164e-01  2.28751595e-01 -5.52050775e-01  7.09475655e-01\n",
            "  -7.09475655e-01]\n",
            " [ 1.32237723e+00 -8.66025404e-01 -2.31475083e-03  1.17600116e+00\n",
            "  -6.95301164e-01 -3.76894303e-01 -5.52050775e-01 -1.40949163e+00\n",
            "  -7.09475655e-01]\n",
            " [ 1.32237723e+00  1.15470054e+00 -4.61385651e-01  1.17600116e+00\n",
            "  -6.95301164e-01  1.11065703e+00 -3.73584368e-01 -1.40949163e+00\n",
            "  -7.09475655e-01]\n",
            " [ 5.13053460e-01 -8.66025404e-01 -4.34743144e-01 -8.50339299e-01\n",
            "   1.43822570e+00  3.98757462e-01 -1.05884757e-01  7.09475655e-01\n",
            "   1.40949163e+00]\n",
            " [-1.10559408e+00  1.15470054e+00 -5.55659140e-01 -8.50339299e-01\n",
            "  -6.95301164e-01 -3.66268936e-01  1.14338009e+00  7.09475655e-01\n",
            "   1.40949163e+00]\n",
            " [-1.10559408e+00 -8.66025404e-01 -3.61302413e-02  1.17600116e+00\n",
            "  -6.95301164e-01 -3.13142103e-01  1.85724572e+00  7.09475655e-01\n",
            "  -7.09475655e-01]\n",
            " [ 1.32237723e+00 -8.66025404e-01 -3.61302413e-02  1.17600116e+00\n",
            "  -6.95301164e-01 -3.87519670e-01 -4.62817571e-01 -1.40949163e+00\n",
            "  -7.09475655e-01]\n",
            " [-1.10559408e+00 -8.66025404e-01  1.92380497e-01 -8.50339299e-01\n",
            "  -6.95301164e-01  6.25499292e-02 -2.84351164e-01  7.09475655e-01\n",
            "  -7.09475655e-01]\n",
            " [ 5.13053460e-01 -8.66025404e-01 -3.61302413e-02  1.17600116e+00\n",
            "   1.43822570e+00  2.05631466e+00 -7.30517182e-01  7.09475655e-01\n",
            "   1.40949163e+00]\n",
            " [-1.10559408e+00  1.15470054e+00 -5.27991920e-01 -8.50339299e-01\n",
            "  -6.95301164e-01  2.65133519e+00  1.58954611e+00 -1.40949163e+00\n",
            "  -7.09475655e-01]\n",
            " [ 1.32237723e+00 -8.66025404e-01 -3.61302413e-02 -8.50339299e-01\n",
            "   1.43822570e+00 -1.17379680e+00 -5.52050775e-01  7.09475655e-01\n",
            "   1.40949163e+00]\n",
            " [ 5.13053460e-01  1.15470054e+00 -5.26967209e-01  1.17600116e+00\n",
            "  -6.95301164e-01 -8.33785068e-01 -4.62817571e-01  7.09475655e-01\n",
            "   1.40949163e+00]\n",
            " [ 5.13053460e-01  1.15470054e+00 -4.74706905e-01 -8.50339299e-01\n",
            "  -6.95301164e-01 -5.04398703e-01  2.51048058e-01  7.09475655e-01\n",
            "  -7.09475655e-01]\n",
            " [-1.10559408e+00 -8.66025404e-01 -4.02977077e-01  1.17600116e+00\n",
            "  -6.95301164e-01 -1.15254607e+00 -1.05884757e-01  7.09475655e-01\n",
            "   1.40949163e+00]\n",
            " [ 5.13053460e-01  1.15470054e+00 -5.84351071e-01 -8.50339299e-01\n",
            "  -6.95301164e-01 -5.68150902e-01 -6.41283978e-01  7.09475655e-01\n",
            "   1.40949163e+00]\n",
            " [ 5.13053460e-01 -8.66025404e-01 -4.97250566e-01  1.17600116e+00\n",
            "   1.43822570e+00 -4.75079372e-02 -3.73584368e-01  7.09475655e-01\n",
            "  -7.09475655e-01]\n",
            " [ 1.32237723e+00 -8.66025404e-01  1.47839385e+00  1.17600116e+00\n",
            "  -6.95301164e-01  5.14829635e+00 -5.52050775e-01 -1.40949163e+00\n",
            "  -7.09475655e-01]\n",
            " [-1.10559408e+00 -8.66025404e-01 -3.61302413e-02 -8.50339299e-01\n",
            "   1.43822570e+00  6.25499292e-02 -2.12964601e-01  7.09475655e-01\n",
            "  -7.09475655e-01]\n",
            " [-1.10559408e+00 -8.66025404e-01 -5.16720090e-01  1.17600116e+00\n",
            "  -6.95301164e-01  2.54508152e+00  3.67051222e-01  7.09475655e-01\n",
            "  -7.09475655e-01]\n",
            " [-1.10559408e+00  1.15470054e+00 -4.57286804e-01 -8.50339299e-01\n",
            "   1.43822570e+00 -8.65661168e-01 -2.84351164e-01  7.09475655e-01\n",
            "   1.40949163e+00]\n",
            " [ 5.13053460e-01 -8.66025404e-01 -3.44568503e-01  1.17600116e+00\n",
            "  -6.95301164e-01 -3.87519670e-01 -3.73584368e-01 -1.40949163e+00\n",
            "  -7.09475655e-01]\n",
            " [-1.10559408e+00 -8.66025404e-01 -3.61302413e-02 -8.50339299e-01\n",
            "  -6.95301164e-01  6.25499292e-02  3.67051222e-01 -1.40949163e+00\n",
            "  -7.09475655e-01]]\n"
          ]
        }
      ]
    },
    {
      "cell_type": "markdown",
      "source": [
        "# CLASSIFICATION"
      ],
      "metadata": {
        "id": "KhDTs8AJ932a"
      }
    },
    {
      "cell_type": "code",
      "source": [
        "y_test_flat = y_test.values.flatten()"
      ],
      "metadata": {
        "id": "ENfYpBCL3dUO"
      },
      "execution_count": null,
      "outputs": []
    },
    {
      "cell_type": "markdown",
      "source": [
        "**LOGISTIC REGRESSION**"
      ],
      "metadata": {
        "id": "L7LNvz_hyHtF"
      }
    },
    {
      "cell_type": "code",
      "source": [
        "from sklearn.linear_model import LogisticRegression\n",
        "logistic_classifier = LogisticRegression(random_state=0)\n",
        "logistic_classifier.fit(x_train,y_train)\n",
        "\n",
        "logistic_y_pred = logistic_classifier.predict(x_test)"
      ],
      "metadata": {
        "colab": {
          "base_uri": "https://localhost:8080/"
        },
        "id": "d4zYQ0UiyHtF",
        "outputId": "1900e552-b0cd-477c-dc8d-fd9a54d52345"
      },
      "execution_count": null,
      "outputs": [
        {
          "output_type": "stream",
          "name": "stderr",
          "text": [
            "/usr/local/lib/python3.7/dist-packages/sklearn/utils/validation.py:993: DataConversionWarning: A column-vector y was passed when a 1d array was expected. Please change the shape of y to (n_samples, ), for example using ravel().\n",
            "  y = column_or_1d(y, warn=True)\n"
          ]
        }
      ]
    },
    {
      "cell_type": "code",
      "source": [
        "print(logistic_y_pred)"
      ],
      "metadata": {
        "colab": {
          "base_uri": "https://localhost:8080/"
        },
        "id": "l3iOXNWSzpCl",
        "outputId": "4c455c89-efb2-4a6b-c647-749ec11228f6"
      },
      "execution_count": null,
      "outputs": [
        {
          "output_type": "stream",
          "name": "stdout",
          "text": [
            "[0 0 0 0 1 0 0 0 1 0 0 0 0 0 0 0 0 0 0 0 0 0 0 0 0 0 0 0 0 0 0 0 0 0 0 0 0\n",
            " 0 0 0 1 0 0 0 0 1 0 0 0 0 0 0 0 0 0 0 0 1 1 0 0 0 1 0 0 0 0 0 0 0 0 0 0 0\n",
            " 0]\n"
          ]
        }
      ]
    },
    {
      "cell_type": "code",
      "source": [
        "compare_result(logistic_y_pred, y_test_flat)"
      ],
      "metadata": {
        "colab": {
          "base_uri": "https://localhost:8080/",
          "height": 424
        },
        "id": "P_WNQuK52baF",
        "outputId": "07c41c0c-6f14-4861-8dde-3b4fbed93f20"
      },
      "execution_count": null,
      "outputs": [
        {
          "output_type": "execute_result",
          "data": {
            "text/plain": [
              "    y_pred  y_test\n",
              "0        0       0\n",
              "1        0       0\n",
              "2        0       0\n",
              "3        0       0\n",
              "4        1       0\n",
              "..     ...     ...\n",
              "70       0       0\n",
              "71       0       1\n",
              "72       0       0\n",
              "73       0       0\n",
              "74       0       1\n",
              "\n",
              "[75 rows x 2 columns]"
            ],
            "text/html": [
              "\n",
              "  <div id=\"df-b4142be6-7f47-4bf0-8571-dcab9fc347b4\">\n",
              "    <div class=\"colab-df-container\">\n",
              "      <div>\n",
              "<style scoped>\n",
              "    .dataframe tbody tr th:only-of-type {\n",
              "        vertical-align: middle;\n",
              "    }\n",
              "\n",
              "    .dataframe tbody tr th {\n",
              "        vertical-align: top;\n",
              "    }\n",
              "\n",
              "    .dataframe thead th {\n",
              "        text-align: right;\n",
              "    }\n",
              "</style>\n",
              "<table border=\"1\" class=\"dataframe\">\n",
              "  <thead>\n",
              "    <tr style=\"text-align: right;\">\n",
              "      <th></th>\n",
              "      <th>y_pred</th>\n",
              "      <th>y_test</th>\n",
              "    </tr>\n",
              "  </thead>\n",
              "  <tbody>\n",
              "    <tr>\n",
              "      <th>0</th>\n",
              "      <td>0</td>\n",
              "      <td>0</td>\n",
              "    </tr>\n",
              "    <tr>\n",
              "      <th>1</th>\n",
              "      <td>0</td>\n",
              "      <td>0</td>\n",
              "    </tr>\n",
              "    <tr>\n",
              "      <th>2</th>\n",
              "      <td>0</td>\n",
              "      <td>0</td>\n",
              "    </tr>\n",
              "    <tr>\n",
              "      <th>3</th>\n",
              "      <td>0</td>\n",
              "      <td>0</td>\n",
              "    </tr>\n",
              "    <tr>\n",
              "      <th>4</th>\n",
              "      <td>1</td>\n",
              "      <td>0</td>\n",
              "    </tr>\n",
              "    <tr>\n",
              "      <th>...</th>\n",
              "      <td>...</td>\n",
              "      <td>...</td>\n",
              "    </tr>\n",
              "    <tr>\n",
              "      <th>70</th>\n",
              "      <td>0</td>\n",
              "      <td>0</td>\n",
              "    </tr>\n",
              "    <tr>\n",
              "      <th>71</th>\n",
              "      <td>0</td>\n",
              "      <td>1</td>\n",
              "    </tr>\n",
              "    <tr>\n",
              "      <th>72</th>\n",
              "      <td>0</td>\n",
              "      <td>0</td>\n",
              "    </tr>\n",
              "    <tr>\n",
              "      <th>73</th>\n",
              "      <td>0</td>\n",
              "      <td>0</td>\n",
              "    </tr>\n",
              "    <tr>\n",
              "      <th>74</th>\n",
              "      <td>0</td>\n",
              "      <td>1</td>\n",
              "    </tr>\n",
              "  </tbody>\n",
              "</table>\n",
              "<p>75 rows × 2 columns</p>\n",
              "</div>\n",
              "      <button class=\"colab-df-convert\" onclick=\"convertToInteractive('df-b4142be6-7f47-4bf0-8571-dcab9fc347b4')\"\n",
              "              title=\"Convert this dataframe to an interactive table.\"\n",
              "              style=\"display:none;\">\n",
              "        \n",
              "  <svg xmlns=\"http://www.w3.org/2000/svg\" height=\"24px\"viewBox=\"0 0 24 24\"\n",
              "       width=\"24px\">\n",
              "    <path d=\"M0 0h24v24H0V0z\" fill=\"none\"/>\n",
              "    <path d=\"M18.56 5.44l.94 2.06.94-2.06 2.06-.94-2.06-.94-.94-2.06-.94 2.06-2.06.94zm-11 1L8.5 8.5l.94-2.06 2.06-.94-2.06-.94L8.5 2.5l-.94 2.06-2.06.94zm10 10l.94 2.06.94-2.06 2.06-.94-2.06-.94-.94-2.06-.94 2.06-2.06.94z\"/><path d=\"M17.41 7.96l-1.37-1.37c-.4-.4-.92-.59-1.43-.59-.52 0-1.04.2-1.43.59L10.3 9.45l-7.72 7.72c-.78.78-.78 2.05 0 2.83L4 21.41c.39.39.9.59 1.41.59.51 0 1.02-.2 1.41-.59l7.78-7.78 2.81-2.81c.8-.78.8-2.07 0-2.86zM5.41 20L4 18.59l7.72-7.72 1.47 1.35L5.41 20z\"/>\n",
              "  </svg>\n",
              "      </button>\n",
              "      \n",
              "  <style>\n",
              "    .colab-df-container {\n",
              "      display:flex;\n",
              "      flex-wrap:wrap;\n",
              "      gap: 12px;\n",
              "    }\n",
              "\n",
              "    .colab-df-convert {\n",
              "      background-color: #E8F0FE;\n",
              "      border: none;\n",
              "      border-radius: 50%;\n",
              "      cursor: pointer;\n",
              "      display: none;\n",
              "      fill: #1967D2;\n",
              "      height: 32px;\n",
              "      padding: 0 0 0 0;\n",
              "      width: 32px;\n",
              "    }\n",
              "\n",
              "    .colab-df-convert:hover {\n",
              "      background-color: #E2EBFA;\n",
              "      box-shadow: 0px 1px 2px rgba(60, 64, 67, 0.3), 0px 1px 3px 1px rgba(60, 64, 67, 0.15);\n",
              "      fill: #174EA6;\n",
              "    }\n",
              "\n",
              "    [theme=dark] .colab-df-convert {\n",
              "      background-color: #3B4455;\n",
              "      fill: #D2E3FC;\n",
              "    }\n",
              "\n",
              "    [theme=dark] .colab-df-convert:hover {\n",
              "      background-color: #434B5C;\n",
              "      box-shadow: 0px 1px 3px 1px rgba(0, 0, 0, 0.15);\n",
              "      filter: drop-shadow(0px 1px 2px rgba(0, 0, 0, 0.3));\n",
              "      fill: #FFFFFF;\n",
              "    }\n",
              "  </style>\n",
              "\n",
              "      <script>\n",
              "        const buttonEl =\n",
              "          document.querySelector('#df-b4142be6-7f47-4bf0-8571-dcab9fc347b4 button.colab-df-convert');\n",
              "        buttonEl.style.display =\n",
              "          google.colab.kernel.accessAllowed ? 'block' : 'none';\n",
              "\n",
              "        async function convertToInteractive(key) {\n",
              "          const element = document.querySelector('#df-b4142be6-7f47-4bf0-8571-dcab9fc347b4');\n",
              "          const dataTable =\n",
              "            await google.colab.kernel.invokeFunction('convertToInteractive',\n",
              "                                                     [key], {});\n",
              "          if (!dataTable) return;\n",
              "\n",
              "          const docLinkHtml = 'Like what you see? Visit the ' +\n",
              "            '<a target=\"_blank\" href=https://colab.research.google.com/notebooks/data_table.ipynb>data table notebook</a>'\n",
              "            + ' to learn more about interactive tables.';\n",
              "          element.innerHTML = '';\n",
              "          dataTable['output_type'] = 'display_data';\n",
              "          await google.colab.output.renderOutput(dataTable, element);\n",
              "          const docLink = document.createElement('div');\n",
              "          docLink.innerHTML = docLinkHtml;\n",
              "          element.appendChild(docLink);\n",
              "        }\n",
              "      </script>\n",
              "    </div>\n",
              "  </div>\n",
              "  "
            ]
          },
          "metadata": {},
          "execution_count": 21
        }
      ]
    },
    {
      "cell_type": "markdown",
      "source": [
        "**K-NN Classification**"
      ],
      "metadata": {
        "id": "JjQdShyTyHeu"
      }
    },
    {
      "cell_type": "code",
      "source": [
        "from sklearn.neighbors import KNeighborsClassifier\n",
        "knn_classifier = KNeighborsClassifier(n_neighbors=10)\n",
        "knn_classifier.fit(x_train,y_train)\n",
        "\n",
        "knn_y_pred = knn_classifier.predict(x_test)"
      ],
      "metadata": {
        "colab": {
          "base_uri": "https://localhost:8080/"
        },
        "id": "lTsg0Q-RyHew",
        "outputId": "79283c64-3f9f-49a9-8892-17941e2bc3df"
      },
      "execution_count": null,
      "outputs": [
        {
          "output_type": "stream",
          "name": "stderr",
          "text": [
            "/usr/local/lib/python3.7/dist-packages/sklearn/neighbors/_classification.py:198: DataConversionWarning: A column-vector y was passed when a 1d array was expected. Please change the shape of y to (n_samples,), for example using ravel().\n",
            "  return self._fit(X, y)\n"
          ]
        }
      ]
    },
    {
      "cell_type": "code",
      "source": [
        "print(knn_y_pred)"
      ],
      "metadata": {
        "colab": {
          "base_uri": "https://localhost:8080/"
        },
        "id": "9hxN8QhKztNq",
        "outputId": "64d6fa59-fbca-4c2c-9a47-406f0fb99d4f"
      },
      "execution_count": null,
      "outputs": [
        {
          "output_type": "stream",
          "name": "stdout",
          "text": [
            "[0 0 0 0 1 0 0 0 0 0 0 0 0 0 0 0 0 0 0 0 0 0 0 0 0 0 0 0 0 0 0 0 0 0 0 0 0\n",
            " 0 0 0 0 0 0 0 0 1 0 0 0 0 0 0 0 0 0 0 0 0 0 0 0 0 0 0 0 0 0 0 0 0 0 0 0 0\n",
            " 0]\n"
          ]
        }
      ]
    },
    {
      "cell_type": "code",
      "source": [
        "compare_result(knn_y_pred, y_test_flat)"
      ],
      "metadata": {
        "colab": {
          "base_uri": "https://localhost:8080/",
          "height": 424
        },
        "id": "PoDVtIXa3t0U",
        "outputId": "15f8308e-e14b-4635-fe7e-e4e4279c2b29"
      },
      "execution_count": null,
      "outputs": [
        {
          "output_type": "execute_result",
          "data": {
            "text/plain": [
              "    y_pred  y_test\n",
              "0        0       0\n",
              "1        0       0\n",
              "2        0       0\n",
              "3        0       0\n",
              "4        1       0\n",
              "..     ...     ...\n",
              "70       0       0\n",
              "71       0       1\n",
              "72       0       0\n",
              "73       0       0\n",
              "74       0       1\n",
              "\n",
              "[75 rows x 2 columns]"
            ],
            "text/html": [
              "\n",
              "  <div id=\"df-c430b607-1f67-405c-a1bc-36392cb82ab8\">\n",
              "    <div class=\"colab-df-container\">\n",
              "      <div>\n",
              "<style scoped>\n",
              "    .dataframe tbody tr th:only-of-type {\n",
              "        vertical-align: middle;\n",
              "    }\n",
              "\n",
              "    .dataframe tbody tr th {\n",
              "        vertical-align: top;\n",
              "    }\n",
              "\n",
              "    .dataframe thead th {\n",
              "        text-align: right;\n",
              "    }\n",
              "</style>\n",
              "<table border=\"1\" class=\"dataframe\">\n",
              "  <thead>\n",
              "    <tr style=\"text-align: right;\">\n",
              "      <th></th>\n",
              "      <th>y_pred</th>\n",
              "      <th>y_test</th>\n",
              "    </tr>\n",
              "  </thead>\n",
              "  <tbody>\n",
              "    <tr>\n",
              "      <th>0</th>\n",
              "      <td>0</td>\n",
              "      <td>0</td>\n",
              "    </tr>\n",
              "    <tr>\n",
              "      <th>1</th>\n",
              "      <td>0</td>\n",
              "      <td>0</td>\n",
              "    </tr>\n",
              "    <tr>\n",
              "      <th>2</th>\n",
              "      <td>0</td>\n",
              "      <td>0</td>\n",
              "    </tr>\n",
              "    <tr>\n",
              "      <th>3</th>\n",
              "      <td>0</td>\n",
              "      <td>0</td>\n",
              "    </tr>\n",
              "    <tr>\n",
              "      <th>4</th>\n",
              "      <td>1</td>\n",
              "      <td>0</td>\n",
              "    </tr>\n",
              "    <tr>\n",
              "      <th>...</th>\n",
              "      <td>...</td>\n",
              "      <td>...</td>\n",
              "    </tr>\n",
              "    <tr>\n",
              "      <th>70</th>\n",
              "      <td>0</td>\n",
              "      <td>0</td>\n",
              "    </tr>\n",
              "    <tr>\n",
              "      <th>71</th>\n",
              "      <td>0</td>\n",
              "      <td>1</td>\n",
              "    </tr>\n",
              "    <tr>\n",
              "      <th>72</th>\n",
              "      <td>0</td>\n",
              "      <td>0</td>\n",
              "    </tr>\n",
              "    <tr>\n",
              "      <th>73</th>\n",
              "      <td>0</td>\n",
              "      <td>0</td>\n",
              "    </tr>\n",
              "    <tr>\n",
              "      <th>74</th>\n",
              "      <td>0</td>\n",
              "      <td>1</td>\n",
              "    </tr>\n",
              "  </tbody>\n",
              "</table>\n",
              "<p>75 rows × 2 columns</p>\n",
              "</div>\n",
              "      <button class=\"colab-df-convert\" onclick=\"convertToInteractive('df-c430b607-1f67-405c-a1bc-36392cb82ab8')\"\n",
              "              title=\"Convert this dataframe to an interactive table.\"\n",
              "              style=\"display:none;\">\n",
              "        \n",
              "  <svg xmlns=\"http://www.w3.org/2000/svg\" height=\"24px\"viewBox=\"0 0 24 24\"\n",
              "       width=\"24px\">\n",
              "    <path d=\"M0 0h24v24H0V0z\" fill=\"none\"/>\n",
              "    <path d=\"M18.56 5.44l.94 2.06.94-2.06 2.06-.94-2.06-.94-.94-2.06-.94 2.06-2.06.94zm-11 1L8.5 8.5l.94-2.06 2.06-.94-2.06-.94L8.5 2.5l-.94 2.06-2.06.94zm10 10l.94 2.06.94-2.06 2.06-.94-2.06-.94-.94-2.06-.94 2.06-2.06.94z\"/><path d=\"M17.41 7.96l-1.37-1.37c-.4-.4-.92-.59-1.43-.59-.52 0-1.04.2-1.43.59L10.3 9.45l-7.72 7.72c-.78.78-.78 2.05 0 2.83L4 21.41c.39.39.9.59 1.41.59.51 0 1.02-.2 1.41-.59l7.78-7.78 2.81-2.81c.8-.78.8-2.07 0-2.86zM5.41 20L4 18.59l7.72-7.72 1.47 1.35L5.41 20z\"/>\n",
              "  </svg>\n",
              "      </button>\n",
              "      \n",
              "  <style>\n",
              "    .colab-df-container {\n",
              "      display:flex;\n",
              "      flex-wrap:wrap;\n",
              "      gap: 12px;\n",
              "    }\n",
              "\n",
              "    .colab-df-convert {\n",
              "      background-color: #E8F0FE;\n",
              "      border: none;\n",
              "      border-radius: 50%;\n",
              "      cursor: pointer;\n",
              "      display: none;\n",
              "      fill: #1967D2;\n",
              "      height: 32px;\n",
              "      padding: 0 0 0 0;\n",
              "      width: 32px;\n",
              "    }\n",
              "\n",
              "    .colab-df-convert:hover {\n",
              "      background-color: #E2EBFA;\n",
              "      box-shadow: 0px 1px 2px rgba(60, 64, 67, 0.3), 0px 1px 3px 1px rgba(60, 64, 67, 0.15);\n",
              "      fill: #174EA6;\n",
              "    }\n",
              "\n",
              "    [theme=dark] .colab-df-convert {\n",
              "      background-color: #3B4455;\n",
              "      fill: #D2E3FC;\n",
              "    }\n",
              "\n",
              "    [theme=dark] .colab-df-convert:hover {\n",
              "      background-color: #434B5C;\n",
              "      box-shadow: 0px 1px 3px 1px rgba(0, 0, 0, 0.15);\n",
              "      filter: drop-shadow(0px 1px 2px rgba(0, 0, 0, 0.3));\n",
              "      fill: #FFFFFF;\n",
              "    }\n",
              "  </style>\n",
              "\n",
              "      <script>\n",
              "        const buttonEl =\n",
              "          document.querySelector('#df-c430b607-1f67-405c-a1bc-36392cb82ab8 button.colab-df-convert');\n",
              "        buttonEl.style.display =\n",
              "          google.colab.kernel.accessAllowed ? 'block' : 'none';\n",
              "\n",
              "        async function convertToInteractive(key) {\n",
              "          const element = document.querySelector('#df-c430b607-1f67-405c-a1bc-36392cb82ab8');\n",
              "          const dataTable =\n",
              "            await google.colab.kernel.invokeFunction('convertToInteractive',\n",
              "                                                     [key], {});\n",
              "          if (!dataTable) return;\n",
              "\n",
              "          const docLinkHtml = 'Like what you see? Visit the ' +\n",
              "            '<a target=\"_blank\" href=https://colab.research.google.com/notebooks/data_table.ipynb>data table notebook</a>'\n",
              "            + ' to learn more about interactive tables.';\n",
              "          element.innerHTML = '';\n",
              "          dataTable['output_type'] = 'display_data';\n",
              "          await google.colab.output.renderOutput(dataTable, element);\n",
              "          const docLink = document.createElement('div');\n",
              "          docLink.innerHTML = docLinkHtml;\n",
              "          element.appendChild(docLink);\n",
              "        }\n",
              "      </script>\n",
              "    </div>\n",
              "  </div>\n",
              "  "
            ]
          },
          "metadata": {},
          "execution_count": 24
        }
      ]
    },
    {
      "cell_type": "markdown",
      "source": [
        "**Linear SVM**"
      ],
      "metadata": {
        "id": "eI95zusMyHIF"
      }
    },
    {
      "cell_type": "code",
      "source": [
        "from sklearn.svm import SVC\n",
        "svm_classifier = SVC(kernel=\"linear\", probability=True)\n",
        "svm_classifier.fit(x_train,y_train)\n",
        "\n",
        "svm_y_pred = svm_classifier.predict(x_test)"
      ],
      "metadata": {
        "colab": {
          "base_uri": "https://localhost:8080/"
        },
        "id": "jHQbDxSYyHIG",
        "outputId": "f412dc2f-9990-4f0f-8cdb-ff177f95cacc"
      },
      "execution_count": null,
      "outputs": [
        {
          "output_type": "stream",
          "name": "stderr",
          "text": [
            "/usr/local/lib/python3.7/dist-packages/sklearn/utils/validation.py:993: DataConversionWarning: A column-vector y was passed when a 1d array was expected. Please change the shape of y to (n_samples, ), for example using ravel().\n",
            "  y = column_or_1d(y, warn=True)\n"
          ]
        }
      ]
    },
    {
      "cell_type": "code",
      "source": [
        "print(svm_y_pred)"
      ],
      "metadata": {
        "colab": {
          "base_uri": "https://localhost:8080/"
        },
        "id": "qx_najw7zvUR",
        "outputId": "ab165278-939b-407f-dafb-bbc6078b86c1"
      },
      "execution_count": null,
      "outputs": [
        {
          "output_type": "stream",
          "name": "stdout",
          "text": [
            "[0 0 0 0 0 0 0 0 1 0 0 0 0 0 0 0 0 0 0 0 0 0 0 0 0 0 0 0 0 0 0 0 0 0 0 0 0\n",
            " 0 0 0 0 0 0 0 0 1 0 0 0 0 0 0 0 0 0 0 0 1 1 0 0 0 1 0 0 0 0 0 0 0 0 0 0 0\n",
            " 0]\n"
          ]
        }
      ]
    },
    {
      "cell_type": "code",
      "source": [
        "compare_result(svm_y_pred, y_test_flat)"
      ],
      "metadata": {
        "colab": {
          "base_uri": "https://localhost:8080/",
          "height": 424
        },
        "id": "rsNzNYXD3ztU",
        "outputId": "b3bfe409-affe-4dc0-87a9-d10968903687"
      },
      "execution_count": null,
      "outputs": [
        {
          "output_type": "execute_result",
          "data": {
            "text/plain": [
              "    y_pred  y_test\n",
              "0        0       0\n",
              "1        0       0\n",
              "2        0       0\n",
              "3        0       0\n",
              "4        0       0\n",
              "..     ...     ...\n",
              "70       0       0\n",
              "71       0       1\n",
              "72       0       0\n",
              "73       0       0\n",
              "74       0       1\n",
              "\n",
              "[75 rows x 2 columns]"
            ],
            "text/html": [
              "\n",
              "  <div id=\"df-5de358b5-4641-49cc-82a2-1a9b4b989902\">\n",
              "    <div class=\"colab-df-container\">\n",
              "      <div>\n",
              "<style scoped>\n",
              "    .dataframe tbody tr th:only-of-type {\n",
              "        vertical-align: middle;\n",
              "    }\n",
              "\n",
              "    .dataframe tbody tr th {\n",
              "        vertical-align: top;\n",
              "    }\n",
              "\n",
              "    .dataframe thead th {\n",
              "        text-align: right;\n",
              "    }\n",
              "</style>\n",
              "<table border=\"1\" class=\"dataframe\">\n",
              "  <thead>\n",
              "    <tr style=\"text-align: right;\">\n",
              "      <th></th>\n",
              "      <th>y_pred</th>\n",
              "      <th>y_test</th>\n",
              "    </tr>\n",
              "  </thead>\n",
              "  <tbody>\n",
              "    <tr>\n",
              "      <th>0</th>\n",
              "      <td>0</td>\n",
              "      <td>0</td>\n",
              "    </tr>\n",
              "    <tr>\n",
              "      <th>1</th>\n",
              "      <td>0</td>\n",
              "      <td>0</td>\n",
              "    </tr>\n",
              "    <tr>\n",
              "      <th>2</th>\n",
              "      <td>0</td>\n",
              "      <td>0</td>\n",
              "    </tr>\n",
              "    <tr>\n",
              "      <th>3</th>\n",
              "      <td>0</td>\n",
              "      <td>0</td>\n",
              "    </tr>\n",
              "    <tr>\n",
              "      <th>4</th>\n",
              "      <td>0</td>\n",
              "      <td>0</td>\n",
              "    </tr>\n",
              "    <tr>\n",
              "      <th>...</th>\n",
              "      <td>...</td>\n",
              "      <td>...</td>\n",
              "    </tr>\n",
              "    <tr>\n",
              "      <th>70</th>\n",
              "      <td>0</td>\n",
              "      <td>0</td>\n",
              "    </tr>\n",
              "    <tr>\n",
              "      <th>71</th>\n",
              "      <td>0</td>\n",
              "      <td>1</td>\n",
              "    </tr>\n",
              "    <tr>\n",
              "      <th>72</th>\n",
              "      <td>0</td>\n",
              "      <td>0</td>\n",
              "    </tr>\n",
              "    <tr>\n",
              "      <th>73</th>\n",
              "      <td>0</td>\n",
              "      <td>0</td>\n",
              "    </tr>\n",
              "    <tr>\n",
              "      <th>74</th>\n",
              "      <td>0</td>\n",
              "      <td>1</td>\n",
              "    </tr>\n",
              "  </tbody>\n",
              "</table>\n",
              "<p>75 rows × 2 columns</p>\n",
              "</div>\n",
              "      <button class=\"colab-df-convert\" onclick=\"convertToInteractive('df-5de358b5-4641-49cc-82a2-1a9b4b989902')\"\n",
              "              title=\"Convert this dataframe to an interactive table.\"\n",
              "              style=\"display:none;\">\n",
              "        \n",
              "  <svg xmlns=\"http://www.w3.org/2000/svg\" height=\"24px\"viewBox=\"0 0 24 24\"\n",
              "       width=\"24px\">\n",
              "    <path d=\"M0 0h24v24H0V0z\" fill=\"none\"/>\n",
              "    <path d=\"M18.56 5.44l.94 2.06.94-2.06 2.06-.94-2.06-.94-.94-2.06-.94 2.06-2.06.94zm-11 1L8.5 8.5l.94-2.06 2.06-.94-2.06-.94L8.5 2.5l-.94 2.06-2.06.94zm10 10l.94 2.06.94-2.06 2.06-.94-2.06-.94-.94-2.06-.94 2.06-2.06.94z\"/><path d=\"M17.41 7.96l-1.37-1.37c-.4-.4-.92-.59-1.43-.59-.52 0-1.04.2-1.43.59L10.3 9.45l-7.72 7.72c-.78.78-.78 2.05 0 2.83L4 21.41c.39.39.9.59 1.41.59.51 0 1.02-.2 1.41-.59l7.78-7.78 2.81-2.81c.8-.78.8-2.07 0-2.86zM5.41 20L4 18.59l7.72-7.72 1.47 1.35L5.41 20z\"/>\n",
              "  </svg>\n",
              "      </button>\n",
              "      \n",
              "  <style>\n",
              "    .colab-df-container {\n",
              "      display:flex;\n",
              "      flex-wrap:wrap;\n",
              "      gap: 12px;\n",
              "    }\n",
              "\n",
              "    .colab-df-convert {\n",
              "      background-color: #E8F0FE;\n",
              "      border: none;\n",
              "      border-radius: 50%;\n",
              "      cursor: pointer;\n",
              "      display: none;\n",
              "      fill: #1967D2;\n",
              "      height: 32px;\n",
              "      padding: 0 0 0 0;\n",
              "      width: 32px;\n",
              "    }\n",
              "\n",
              "    .colab-df-convert:hover {\n",
              "      background-color: #E2EBFA;\n",
              "      box-shadow: 0px 1px 2px rgba(60, 64, 67, 0.3), 0px 1px 3px 1px rgba(60, 64, 67, 0.15);\n",
              "      fill: #174EA6;\n",
              "    }\n",
              "\n",
              "    [theme=dark] .colab-df-convert {\n",
              "      background-color: #3B4455;\n",
              "      fill: #D2E3FC;\n",
              "    }\n",
              "\n",
              "    [theme=dark] .colab-df-convert:hover {\n",
              "      background-color: #434B5C;\n",
              "      box-shadow: 0px 1px 3px 1px rgba(0, 0, 0, 0.15);\n",
              "      filter: drop-shadow(0px 1px 2px rgba(0, 0, 0, 0.3));\n",
              "      fill: #FFFFFF;\n",
              "    }\n",
              "  </style>\n",
              "\n",
              "      <script>\n",
              "        const buttonEl =\n",
              "          document.querySelector('#df-5de358b5-4641-49cc-82a2-1a9b4b989902 button.colab-df-convert');\n",
              "        buttonEl.style.display =\n",
              "          google.colab.kernel.accessAllowed ? 'block' : 'none';\n",
              "\n",
              "        async function convertToInteractive(key) {\n",
              "          const element = document.querySelector('#df-5de358b5-4641-49cc-82a2-1a9b4b989902');\n",
              "          const dataTable =\n",
              "            await google.colab.kernel.invokeFunction('convertToInteractive',\n",
              "                                                     [key], {});\n",
              "          if (!dataTable) return;\n",
              "\n",
              "          const docLinkHtml = 'Like what you see? Visit the ' +\n",
              "            '<a target=\"_blank\" href=https://colab.research.google.com/notebooks/data_table.ipynb>data table notebook</a>'\n",
              "            + ' to learn more about interactive tables.';\n",
              "          element.innerHTML = '';\n",
              "          dataTable['output_type'] = 'display_data';\n",
              "          await google.colab.output.renderOutput(dataTable, element);\n",
              "          const docLink = document.createElement('div');\n",
              "          docLink.innerHTML = docLinkHtml;\n",
              "          element.appendChild(docLink);\n",
              "        }\n",
              "      </script>\n",
              "    </div>\n",
              "  </div>\n",
              "  "
            ]
          },
          "metadata": {},
          "execution_count": 27
        }
      ]
    },
    {
      "cell_type": "markdown",
      "source": [
        "**Non Linear Kernel SVM**"
      ],
      "metadata": {
        "id": "ZgP2ocWgyAWh"
      }
    },
    {
      "cell_type": "code",
      "source": [
        "kernel_classifier = SVC(kernel=\"rbf\", probability=True)\n",
        "kernel_classifier.fit(x_train,y_train)\n",
        "\n",
        "kernel_y_pred = kernel_classifier.predict(x_test)"
      ],
      "metadata": {
        "colab": {
          "base_uri": "https://localhost:8080/"
        },
        "id": "6TzBXOXIyAWj",
        "outputId": "a73c1fe4-ea48-44f2-9e47-8e3ced1a3a14"
      },
      "execution_count": null,
      "outputs": [
        {
          "output_type": "stream",
          "name": "stderr",
          "text": [
            "/usr/local/lib/python3.7/dist-packages/sklearn/utils/validation.py:993: DataConversionWarning: A column-vector y was passed when a 1d array was expected. Please change the shape of y to (n_samples, ), for example using ravel().\n",
            "  y = column_or_1d(y, warn=True)\n"
          ]
        }
      ]
    },
    {
      "cell_type": "code",
      "source": [
        "print(kernel_y_pred)"
      ],
      "metadata": {
        "colab": {
          "base_uri": "https://localhost:8080/"
        },
        "id": "rZ0QWOuMzyz_",
        "outputId": "98146fef-b924-4414-de0b-02f3f2607784"
      },
      "execution_count": null,
      "outputs": [
        {
          "output_type": "stream",
          "name": "stdout",
          "text": [
            "[0 0 0 0 1 0 0 0 1 0 0 0 0 0 0 0 0 0 0 0 0 0 0 0 0 0 1 0 0 0 0 0 0 0 0 0 0\n",
            " 0 0 0 0 0 0 0 0 1 0 0 0 0 0 0 1 0 0 0 0 1 1 0 0 0 1 0 0 0 0 0 0 0 0 0 0 0\n",
            " 0]\n"
          ]
        }
      ]
    },
    {
      "cell_type": "code",
      "source": [
        "compare_result(kernel_y_pred, y_test_flat)"
      ],
      "metadata": {
        "colab": {
          "base_uri": "https://localhost:8080/",
          "height": 424
        },
        "id": "vmHaWItw35ps",
        "outputId": "4be3927a-99b7-4651-a968-3981ba951130"
      },
      "execution_count": null,
      "outputs": [
        {
          "output_type": "execute_result",
          "data": {
            "text/plain": [
              "    y_pred  y_test\n",
              "0        0       0\n",
              "1        0       0\n",
              "2        0       0\n",
              "3        0       0\n",
              "4        1       0\n",
              "..     ...     ...\n",
              "70       0       0\n",
              "71       0       1\n",
              "72       0       0\n",
              "73       0       0\n",
              "74       0       1\n",
              "\n",
              "[75 rows x 2 columns]"
            ],
            "text/html": [
              "\n",
              "  <div id=\"df-5298c28d-e224-45c4-b533-b89adffe1637\">\n",
              "    <div class=\"colab-df-container\">\n",
              "      <div>\n",
              "<style scoped>\n",
              "    .dataframe tbody tr th:only-of-type {\n",
              "        vertical-align: middle;\n",
              "    }\n",
              "\n",
              "    .dataframe tbody tr th {\n",
              "        vertical-align: top;\n",
              "    }\n",
              "\n",
              "    .dataframe thead th {\n",
              "        text-align: right;\n",
              "    }\n",
              "</style>\n",
              "<table border=\"1\" class=\"dataframe\">\n",
              "  <thead>\n",
              "    <tr style=\"text-align: right;\">\n",
              "      <th></th>\n",
              "      <th>y_pred</th>\n",
              "      <th>y_test</th>\n",
              "    </tr>\n",
              "  </thead>\n",
              "  <tbody>\n",
              "    <tr>\n",
              "      <th>0</th>\n",
              "      <td>0</td>\n",
              "      <td>0</td>\n",
              "    </tr>\n",
              "    <tr>\n",
              "      <th>1</th>\n",
              "      <td>0</td>\n",
              "      <td>0</td>\n",
              "    </tr>\n",
              "    <tr>\n",
              "      <th>2</th>\n",
              "      <td>0</td>\n",
              "      <td>0</td>\n",
              "    </tr>\n",
              "    <tr>\n",
              "      <th>3</th>\n",
              "      <td>0</td>\n",
              "      <td>0</td>\n",
              "    </tr>\n",
              "    <tr>\n",
              "      <th>4</th>\n",
              "      <td>1</td>\n",
              "      <td>0</td>\n",
              "    </tr>\n",
              "    <tr>\n",
              "      <th>...</th>\n",
              "      <td>...</td>\n",
              "      <td>...</td>\n",
              "    </tr>\n",
              "    <tr>\n",
              "      <th>70</th>\n",
              "      <td>0</td>\n",
              "      <td>0</td>\n",
              "    </tr>\n",
              "    <tr>\n",
              "      <th>71</th>\n",
              "      <td>0</td>\n",
              "      <td>1</td>\n",
              "    </tr>\n",
              "    <tr>\n",
              "      <th>72</th>\n",
              "      <td>0</td>\n",
              "      <td>0</td>\n",
              "    </tr>\n",
              "    <tr>\n",
              "      <th>73</th>\n",
              "      <td>0</td>\n",
              "      <td>0</td>\n",
              "    </tr>\n",
              "    <tr>\n",
              "      <th>74</th>\n",
              "      <td>0</td>\n",
              "      <td>1</td>\n",
              "    </tr>\n",
              "  </tbody>\n",
              "</table>\n",
              "<p>75 rows × 2 columns</p>\n",
              "</div>\n",
              "      <button class=\"colab-df-convert\" onclick=\"convertToInteractive('df-5298c28d-e224-45c4-b533-b89adffe1637')\"\n",
              "              title=\"Convert this dataframe to an interactive table.\"\n",
              "              style=\"display:none;\">\n",
              "        \n",
              "  <svg xmlns=\"http://www.w3.org/2000/svg\" height=\"24px\"viewBox=\"0 0 24 24\"\n",
              "       width=\"24px\">\n",
              "    <path d=\"M0 0h24v24H0V0z\" fill=\"none\"/>\n",
              "    <path d=\"M18.56 5.44l.94 2.06.94-2.06 2.06-.94-2.06-.94-.94-2.06-.94 2.06-2.06.94zm-11 1L8.5 8.5l.94-2.06 2.06-.94-2.06-.94L8.5 2.5l-.94 2.06-2.06.94zm10 10l.94 2.06.94-2.06 2.06-.94-2.06-.94-.94-2.06-.94 2.06-2.06.94z\"/><path d=\"M17.41 7.96l-1.37-1.37c-.4-.4-.92-.59-1.43-.59-.52 0-1.04.2-1.43.59L10.3 9.45l-7.72 7.72c-.78.78-.78 2.05 0 2.83L4 21.41c.39.39.9.59 1.41.59.51 0 1.02-.2 1.41-.59l7.78-7.78 2.81-2.81c.8-.78.8-2.07 0-2.86zM5.41 20L4 18.59l7.72-7.72 1.47 1.35L5.41 20z\"/>\n",
              "  </svg>\n",
              "      </button>\n",
              "      \n",
              "  <style>\n",
              "    .colab-df-container {\n",
              "      display:flex;\n",
              "      flex-wrap:wrap;\n",
              "      gap: 12px;\n",
              "    }\n",
              "\n",
              "    .colab-df-convert {\n",
              "      background-color: #E8F0FE;\n",
              "      border: none;\n",
              "      border-radius: 50%;\n",
              "      cursor: pointer;\n",
              "      display: none;\n",
              "      fill: #1967D2;\n",
              "      height: 32px;\n",
              "      padding: 0 0 0 0;\n",
              "      width: 32px;\n",
              "    }\n",
              "\n",
              "    .colab-df-convert:hover {\n",
              "      background-color: #E2EBFA;\n",
              "      box-shadow: 0px 1px 2px rgba(60, 64, 67, 0.3), 0px 1px 3px 1px rgba(60, 64, 67, 0.15);\n",
              "      fill: #174EA6;\n",
              "    }\n",
              "\n",
              "    [theme=dark] .colab-df-convert {\n",
              "      background-color: #3B4455;\n",
              "      fill: #D2E3FC;\n",
              "    }\n",
              "\n",
              "    [theme=dark] .colab-df-convert:hover {\n",
              "      background-color: #434B5C;\n",
              "      box-shadow: 0px 1px 3px 1px rgba(0, 0, 0, 0.15);\n",
              "      filter: drop-shadow(0px 1px 2px rgba(0, 0, 0, 0.3));\n",
              "      fill: #FFFFFF;\n",
              "    }\n",
              "  </style>\n",
              "\n",
              "      <script>\n",
              "        const buttonEl =\n",
              "          document.querySelector('#df-5298c28d-e224-45c4-b533-b89adffe1637 button.colab-df-convert');\n",
              "        buttonEl.style.display =\n",
              "          google.colab.kernel.accessAllowed ? 'block' : 'none';\n",
              "\n",
              "        async function convertToInteractive(key) {\n",
              "          const element = document.querySelector('#df-5298c28d-e224-45c4-b533-b89adffe1637');\n",
              "          const dataTable =\n",
              "            await google.colab.kernel.invokeFunction('convertToInteractive',\n",
              "                                                     [key], {});\n",
              "          if (!dataTable) return;\n",
              "\n",
              "          const docLinkHtml = 'Like what you see? Visit the ' +\n",
              "            '<a target=\"_blank\" href=https://colab.research.google.com/notebooks/data_table.ipynb>data table notebook</a>'\n",
              "            + ' to learn more about interactive tables.';\n",
              "          element.innerHTML = '';\n",
              "          dataTable['output_type'] = 'display_data';\n",
              "          await google.colab.output.renderOutput(dataTable, element);\n",
              "          const docLink = document.createElement('div');\n",
              "          docLink.innerHTML = docLinkHtml;\n",
              "          element.appendChild(docLink);\n",
              "        }\n",
              "      </script>\n",
              "    </div>\n",
              "  </div>\n",
              "  "
            ]
          },
          "metadata": {},
          "execution_count": 30
        }
      ]
    },
    {
      "cell_type": "markdown",
      "source": [
        "**Naive Bayes Classification**"
      ],
      "metadata": {
        "id": "Geo5hxOwyAHP"
      }
    },
    {
      "cell_type": "code",
      "source": [
        "from sklearn.naive_bayes import GaussianNB\n",
        "naive_classifier = GaussianNB()\n",
        "naive_classifier.fit(x_train,y_train)\n",
        "\n",
        "naive_y_pred = naive_classifier.predict(x_test)"
      ],
      "metadata": {
        "colab": {
          "base_uri": "https://localhost:8080/"
        },
        "id": "8g9Nsg21yAHQ",
        "outputId": "7ac20966-6584-4e0f-89d0-836826595ee3"
      },
      "execution_count": null,
      "outputs": [
        {
          "output_type": "stream",
          "name": "stderr",
          "text": [
            "/usr/local/lib/python3.7/dist-packages/sklearn/utils/validation.py:993: DataConversionWarning: A column-vector y was passed when a 1d array was expected. Please change the shape of y to (n_samples, ), for example using ravel().\n",
            "  y = column_or_1d(y, warn=True)\n"
          ]
        }
      ]
    },
    {
      "cell_type": "code",
      "source": [
        "print(naive_y_pred)"
      ],
      "metadata": {
        "colab": {
          "base_uri": "https://localhost:8080/"
        },
        "id": "PUzCz7mzz0wp",
        "outputId": "0d728f91-59c3-4cb7-96cd-2768491cca44"
      },
      "execution_count": null,
      "outputs": [
        {
          "output_type": "stream",
          "name": "stdout",
          "text": [
            "[0 0 0 0 0 0 0 0 0 0 0 0 0 0 0 0 0 0 0 0 0 0 0 0 0 0 1 0 0 0 0 0 0 0 0 0 0\n",
            " 0 0 0 0 0 0 0 0 1 0 0 0 0 0 0 0 0 0 0 0 1 1 0 0 0 1 0 0 0 0 0 0 0 0 0 0 0\n",
            " 0]\n"
          ]
        }
      ]
    },
    {
      "cell_type": "code",
      "source": [
        "compare_result(naive_y_pred, y_test_flat)"
      ],
      "metadata": {
        "colab": {
          "base_uri": "https://localhost:8080/",
          "height": 424
        },
        "id": "-NdxYoO73-cF",
        "outputId": "511092dc-649f-4d38-f335-3df0696e7f74"
      },
      "execution_count": null,
      "outputs": [
        {
          "output_type": "execute_result",
          "data": {
            "text/plain": [
              "    y_pred  y_test\n",
              "0        0       0\n",
              "1        0       0\n",
              "2        0       0\n",
              "3        0       0\n",
              "4        0       0\n",
              "..     ...     ...\n",
              "70       0       0\n",
              "71       0       1\n",
              "72       0       0\n",
              "73       0       0\n",
              "74       0       1\n",
              "\n",
              "[75 rows x 2 columns]"
            ],
            "text/html": [
              "\n",
              "  <div id=\"df-44826d7f-d577-4657-a310-5e58397e7507\">\n",
              "    <div class=\"colab-df-container\">\n",
              "      <div>\n",
              "<style scoped>\n",
              "    .dataframe tbody tr th:only-of-type {\n",
              "        vertical-align: middle;\n",
              "    }\n",
              "\n",
              "    .dataframe tbody tr th {\n",
              "        vertical-align: top;\n",
              "    }\n",
              "\n",
              "    .dataframe thead th {\n",
              "        text-align: right;\n",
              "    }\n",
              "</style>\n",
              "<table border=\"1\" class=\"dataframe\">\n",
              "  <thead>\n",
              "    <tr style=\"text-align: right;\">\n",
              "      <th></th>\n",
              "      <th>y_pred</th>\n",
              "      <th>y_test</th>\n",
              "    </tr>\n",
              "  </thead>\n",
              "  <tbody>\n",
              "    <tr>\n",
              "      <th>0</th>\n",
              "      <td>0</td>\n",
              "      <td>0</td>\n",
              "    </tr>\n",
              "    <tr>\n",
              "      <th>1</th>\n",
              "      <td>0</td>\n",
              "      <td>0</td>\n",
              "    </tr>\n",
              "    <tr>\n",
              "      <th>2</th>\n",
              "      <td>0</td>\n",
              "      <td>0</td>\n",
              "    </tr>\n",
              "    <tr>\n",
              "      <th>3</th>\n",
              "      <td>0</td>\n",
              "      <td>0</td>\n",
              "    </tr>\n",
              "    <tr>\n",
              "      <th>4</th>\n",
              "      <td>0</td>\n",
              "      <td>0</td>\n",
              "    </tr>\n",
              "    <tr>\n",
              "      <th>...</th>\n",
              "      <td>...</td>\n",
              "      <td>...</td>\n",
              "    </tr>\n",
              "    <tr>\n",
              "      <th>70</th>\n",
              "      <td>0</td>\n",
              "      <td>0</td>\n",
              "    </tr>\n",
              "    <tr>\n",
              "      <th>71</th>\n",
              "      <td>0</td>\n",
              "      <td>1</td>\n",
              "    </tr>\n",
              "    <tr>\n",
              "      <th>72</th>\n",
              "      <td>0</td>\n",
              "      <td>0</td>\n",
              "    </tr>\n",
              "    <tr>\n",
              "      <th>73</th>\n",
              "      <td>0</td>\n",
              "      <td>0</td>\n",
              "    </tr>\n",
              "    <tr>\n",
              "      <th>74</th>\n",
              "      <td>0</td>\n",
              "      <td>1</td>\n",
              "    </tr>\n",
              "  </tbody>\n",
              "</table>\n",
              "<p>75 rows × 2 columns</p>\n",
              "</div>\n",
              "      <button class=\"colab-df-convert\" onclick=\"convertToInteractive('df-44826d7f-d577-4657-a310-5e58397e7507')\"\n",
              "              title=\"Convert this dataframe to an interactive table.\"\n",
              "              style=\"display:none;\">\n",
              "        \n",
              "  <svg xmlns=\"http://www.w3.org/2000/svg\" height=\"24px\"viewBox=\"0 0 24 24\"\n",
              "       width=\"24px\">\n",
              "    <path d=\"M0 0h24v24H0V0z\" fill=\"none\"/>\n",
              "    <path d=\"M18.56 5.44l.94 2.06.94-2.06 2.06-.94-2.06-.94-.94-2.06-.94 2.06-2.06.94zm-11 1L8.5 8.5l.94-2.06 2.06-.94-2.06-.94L8.5 2.5l-.94 2.06-2.06.94zm10 10l.94 2.06.94-2.06 2.06-.94-2.06-.94-.94-2.06-.94 2.06-2.06.94z\"/><path d=\"M17.41 7.96l-1.37-1.37c-.4-.4-.92-.59-1.43-.59-.52 0-1.04.2-1.43.59L10.3 9.45l-7.72 7.72c-.78.78-.78 2.05 0 2.83L4 21.41c.39.39.9.59 1.41.59.51 0 1.02-.2 1.41-.59l7.78-7.78 2.81-2.81c.8-.78.8-2.07 0-2.86zM5.41 20L4 18.59l7.72-7.72 1.47 1.35L5.41 20z\"/>\n",
              "  </svg>\n",
              "      </button>\n",
              "      \n",
              "  <style>\n",
              "    .colab-df-container {\n",
              "      display:flex;\n",
              "      flex-wrap:wrap;\n",
              "      gap: 12px;\n",
              "    }\n",
              "\n",
              "    .colab-df-convert {\n",
              "      background-color: #E8F0FE;\n",
              "      border: none;\n",
              "      border-radius: 50%;\n",
              "      cursor: pointer;\n",
              "      display: none;\n",
              "      fill: #1967D2;\n",
              "      height: 32px;\n",
              "      padding: 0 0 0 0;\n",
              "      width: 32px;\n",
              "    }\n",
              "\n",
              "    .colab-df-convert:hover {\n",
              "      background-color: #E2EBFA;\n",
              "      box-shadow: 0px 1px 2px rgba(60, 64, 67, 0.3), 0px 1px 3px 1px rgba(60, 64, 67, 0.15);\n",
              "      fill: #174EA6;\n",
              "    }\n",
              "\n",
              "    [theme=dark] .colab-df-convert {\n",
              "      background-color: #3B4455;\n",
              "      fill: #D2E3FC;\n",
              "    }\n",
              "\n",
              "    [theme=dark] .colab-df-convert:hover {\n",
              "      background-color: #434B5C;\n",
              "      box-shadow: 0px 1px 3px 1px rgba(0, 0, 0, 0.15);\n",
              "      filter: drop-shadow(0px 1px 2px rgba(0, 0, 0, 0.3));\n",
              "      fill: #FFFFFF;\n",
              "    }\n",
              "  </style>\n",
              "\n",
              "      <script>\n",
              "        const buttonEl =\n",
              "          document.querySelector('#df-44826d7f-d577-4657-a310-5e58397e7507 button.colab-df-convert');\n",
              "        buttonEl.style.display =\n",
              "          google.colab.kernel.accessAllowed ? 'block' : 'none';\n",
              "\n",
              "        async function convertToInteractive(key) {\n",
              "          const element = document.querySelector('#df-44826d7f-d577-4657-a310-5e58397e7507');\n",
              "          const dataTable =\n",
              "            await google.colab.kernel.invokeFunction('convertToInteractive',\n",
              "                                                     [key], {});\n",
              "          if (!dataTable) return;\n",
              "\n",
              "          const docLinkHtml = 'Like what you see? Visit the ' +\n",
              "            '<a target=\"_blank\" href=https://colab.research.google.com/notebooks/data_table.ipynb>data table notebook</a>'\n",
              "            + ' to learn more about interactive tables.';\n",
              "          element.innerHTML = '';\n",
              "          dataTable['output_type'] = 'display_data';\n",
              "          await google.colab.output.renderOutput(dataTable, element);\n",
              "          const docLink = document.createElement('div');\n",
              "          docLink.innerHTML = docLinkHtml;\n",
              "          element.appendChild(docLink);\n",
              "        }\n",
              "      </script>\n",
              "    </div>\n",
              "  </div>\n",
              "  "
            ]
          },
          "metadata": {},
          "execution_count": 33
        }
      ]
    },
    {
      "cell_type": "markdown",
      "source": [
        "**Decision Tree classification**"
      ],
      "metadata": {
        "id": "LgS-2Kwyx_jr"
      }
    },
    {
      "cell_type": "code",
      "source": [
        "from sklearn.tree import DecisionTreeClassifier\n",
        "tree_classifier = DecisionTreeClassifier(criterion=\"entropy\", random_state=0)\n",
        "tree_classifier.fit(x_train,y_train)\n",
        "\n",
        "tree_y_pred = tree_classifier.predict(x_test)"
      ],
      "metadata": {
        "id": "GFephpK_x_jt"
      },
      "execution_count": null,
      "outputs": []
    },
    {
      "cell_type": "code",
      "source": [
        "print(tree_y_pred)"
      ],
      "metadata": {
        "colab": {
          "base_uri": "https://localhost:8080/"
        },
        "id": "6KR4Glczz7Wa",
        "outputId": "d5eaec09-d2e2-4dc3-9742-3a6e45706dc3"
      },
      "execution_count": null,
      "outputs": [
        {
          "output_type": "stream",
          "name": "stdout",
          "text": [
            "[0 0 0 1 1 1 0 0 1 1 0 0 0 0 0 1 0 1 1 0 0 1 0 1 0 0 1 0 1 0 0 1 0 1 0 1 0\n",
            " 0 1 0 0 0 0 0 0 1 0 0 1 0 1 0 0 0 0 0 0 1 0 0 0 0 1 0 0 1 1 0 1 0 0 1 0 0\n",
            " 1]\n"
          ]
        }
      ]
    },
    {
      "cell_type": "code",
      "source": [
        "result_tree = compare_result(tree_y_pred, y_test_flat)"
      ],
      "metadata": {
        "id": "NngYlN7Z4EC_"
      },
      "execution_count": null,
      "outputs": []
    },
    {
      "cell_type": "code",
      "source": [
        "result_tree"
      ],
      "metadata": {
        "colab": {
          "base_uri": "https://localhost:8080/",
          "height": 424
        },
        "id": "2c7Wzm7Wx5jp",
        "outputId": "f28818cb-3707-415f-faea-8227e2104e77"
      },
      "execution_count": null,
      "outputs": [
        {
          "output_type": "execute_result",
          "data": {
            "text/plain": [
              "    y_pred  y_test\n",
              "0        0       0\n",
              "1        0       0\n",
              "2        0       0\n",
              "3        1       0\n",
              "4        1       0\n",
              "..     ...     ...\n",
              "70       0       0\n",
              "71       1       1\n",
              "72       0       0\n",
              "73       0       0\n",
              "74       1       1\n",
              "\n",
              "[75 rows x 2 columns]"
            ],
            "text/html": [
              "\n",
              "  <div id=\"df-95ab3525-a1b1-413f-bf68-74abc5c92b4b\">\n",
              "    <div class=\"colab-df-container\">\n",
              "      <div>\n",
              "<style scoped>\n",
              "    .dataframe tbody tr th:only-of-type {\n",
              "        vertical-align: middle;\n",
              "    }\n",
              "\n",
              "    .dataframe tbody tr th {\n",
              "        vertical-align: top;\n",
              "    }\n",
              "\n",
              "    .dataframe thead th {\n",
              "        text-align: right;\n",
              "    }\n",
              "</style>\n",
              "<table border=\"1\" class=\"dataframe\">\n",
              "  <thead>\n",
              "    <tr style=\"text-align: right;\">\n",
              "      <th></th>\n",
              "      <th>y_pred</th>\n",
              "      <th>y_test</th>\n",
              "    </tr>\n",
              "  </thead>\n",
              "  <tbody>\n",
              "    <tr>\n",
              "      <th>0</th>\n",
              "      <td>0</td>\n",
              "      <td>0</td>\n",
              "    </tr>\n",
              "    <tr>\n",
              "      <th>1</th>\n",
              "      <td>0</td>\n",
              "      <td>0</td>\n",
              "    </tr>\n",
              "    <tr>\n",
              "      <th>2</th>\n",
              "      <td>0</td>\n",
              "      <td>0</td>\n",
              "    </tr>\n",
              "    <tr>\n",
              "      <th>3</th>\n",
              "      <td>1</td>\n",
              "      <td>0</td>\n",
              "    </tr>\n",
              "    <tr>\n",
              "      <th>4</th>\n",
              "      <td>1</td>\n",
              "      <td>0</td>\n",
              "    </tr>\n",
              "    <tr>\n",
              "      <th>...</th>\n",
              "      <td>...</td>\n",
              "      <td>...</td>\n",
              "    </tr>\n",
              "    <tr>\n",
              "      <th>70</th>\n",
              "      <td>0</td>\n",
              "      <td>0</td>\n",
              "    </tr>\n",
              "    <tr>\n",
              "      <th>71</th>\n",
              "      <td>1</td>\n",
              "      <td>1</td>\n",
              "    </tr>\n",
              "    <tr>\n",
              "      <th>72</th>\n",
              "      <td>0</td>\n",
              "      <td>0</td>\n",
              "    </tr>\n",
              "    <tr>\n",
              "      <th>73</th>\n",
              "      <td>0</td>\n",
              "      <td>0</td>\n",
              "    </tr>\n",
              "    <tr>\n",
              "      <th>74</th>\n",
              "      <td>1</td>\n",
              "      <td>1</td>\n",
              "    </tr>\n",
              "  </tbody>\n",
              "</table>\n",
              "<p>75 rows × 2 columns</p>\n",
              "</div>\n",
              "      <button class=\"colab-df-convert\" onclick=\"convertToInteractive('df-95ab3525-a1b1-413f-bf68-74abc5c92b4b')\"\n",
              "              title=\"Convert this dataframe to an interactive table.\"\n",
              "              style=\"display:none;\">\n",
              "        \n",
              "  <svg xmlns=\"http://www.w3.org/2000/svg\" height=\"24px\"viewBox=\"0 0 24 24\"\n",
              "       width=\"24px\">\n",
              "    <path d=\"M0 0h24v24H0V0z\" fill=\"none\"/>\n",
              "    <path d=\"M18.56 5.44l.94 2.06.94-2.06 2.06-.94-2.06-.94-.94-2.06-.94 2.06-2.06.94zm-11 1L8.5 8.5l.94-2.06 2.06-.94-2.06-.94L8.5 2.5l-.94 2.06-2.06.94zm10 10l.94 2.06.94-2.06 2.06-.94-2.06-.94-.94-2.06-.94 2.06-2.06.94z\"/><path d=\"M17.41 7.96l-1.37-1.37c-.4-.4-.92-.59-1.43-.59-.52 0-1.04.2-1.43.59L10.3 9.45l-7.72 7.72c-.78.78-.78 2.05 0 2.83L4 21.41c.39.39.9.59 1.41.59.51 0 1.02-.2 1.41-.59l7.78-7.78 2.81-2.81c.8-.78.8-2.07 0-2.86zM5.41 20L4 18.59l7.72-7.72 1.47 1.35L5.41 20z\"/>\n",
              "  </svg>\n",
              "      </button>\n",
              "      \n",
              "  <style>\n",
              "    .colab-df-container {\n",
              "      display:flex;\n",
              "      flex-wrap:wrap;\n",
              "      gap: 12px;\n",
              "    }\n",
              "\n",
              "    .colab-df-convert {\n",
              "      background-color: #E8F0FE;\n",
              "      border: none;\n",
              "      border-radius: 50%;\n",
              "      cursor: pointer;\n",
              "      display: none;\n",
              "      fill: #1967D2;\n",
              "      height: 32px;\n",
              "      padding: 0 0 0 0;\n",
              "      width: 32px;\n",
              "    }\n",
              "\n",
              "    .colab-df-convert:hover {\n",
              "      background-color: #E2EBFA;\n",
              "      box-shadow: 0px 1px 2px rgba(60, 64, 67, 0.3), 0px 1px 3px 1px rgba(60, 64, 67, 0.15);\n",
              "      fill: #174EA6;\n",
              "    }\n",
              "\n",
              "    [theme=dark] .colab-df-convert {\n",
              "      background-color: #3B4455;\n",
              "      fill: #D2E3FC;\n",
              "    }\n",
              "\n",
              "    [theme=dark] .colab-df-convert:hover {\n",
              "      background-color: #434B5C;\n",
              "      box-shadow: 0px 1px 3px 1px rgba(0, 0, 0, 0.15);\n",
              "      filter: drop-shadow(0px 1px 2px rgba(0, 0, 0, 0.3));\n",
              "      fill: #FFFFFF;\n",
              "    }\n",
              "  </style>\n",
              "\n",
              "      <script>\n",
              "        const buttonEl =\n",
              "          document.querySelector('#df-95ab3525-a1b1-413f-bf68-74abc5c92b4b button.colab-df-convert');\n",
              "        buttonEl.style.display =\n",
              "          google.colab.kernel.accessAllowed ? 'block' : 'none';\n",
              "\n",
              "        async function convertToInteractive(key) {\n",
              "          const element = document.querySelector('#df-95ab3525-a1b1-413f-bf68-74abc5c92b4b');\n",
              "          const dataTable =\n",
              "            await google.colab.kernel.invokeFunction('convertToInteractive',\n",
              "                                                     [key], {});\n",
              "          if (!dataTable) return;\n",
              "\n",
              "          const docLinkHtml = 'Like what you see? Visit the ' +\n",
              "            '<a target=\"_blank\" href=https://colab.research.google.com/notebooks/data_table.ipynb>data table notebook</a>'\n",
              "            + ' to learn more about interactive tables.';\n",
              "          element.innerHTML = '';\n",
              "          dataTable['output_type'] = 'display_data';\n",
              "          await google.colab.output.renderOutput(dataTable, element);\n",
              "          const docLink = document.createElement('div');\n",
              "          docLink.innerHTML = docLinkHtml;\n",
              "          element.appendChild(docLink);\n",
              "        }\n",
              "      </script>\n",
              "    </div>\n",
              "  </div>\n",
              "  "
            ]
          },
          "metadata": {},
          "execution_count": 68
        }
      ]
    },
    {
      "cell_type": "markdown",
      "source": [
        "**Random Forest Classification**"
      ],
      "metadata": {
        "id": "U57YcPKvx7Mt"
      }
    },
    {
      "cell_type": "code",
      "source": [
        "from sklearn.ensemble import RandomForestClassifier\n",
        "forest_classifier = RandomForestClassifier(n_estimators=10, criterion=\"entropy\", random_state=0)\n",
        "forest_classifier.fit(x_train,y_train)\n",
        "\n",
        "forest_y_pred = forest_classifier.predict(x_test)"
      ],
      "metadata": {
        "id": "Ln1MtXAs9_ki",
        "colab": {
          "base_uri": "https://localhost:8080/"
        },
        "outputId": "33dcba63-5154-4dc8-c668-3016ea5851f1"
      },
      "execution_count": null,
      "outputs": [
        {
          "output_type": "stream",
          "name": "stderr",
          "text": [
            "/usr/local/lib/python3.7/dist-packages/ipykernel_launcher.py:3: DataConversionWarning: A column-vector y was passed when a 1d array was expected. Please change the shape of y to (n_samples,), for example using ravel().\n",
            "  This is separate from the ipykernel package so we can avoid doing imports until\n"
          ]
        }
      ]
    },
    {
      "cell_type": "code",
      "source": [
        "print(forest_y_pred)"
      ],
      "metadata": {
        "colab": {
          "base_uri": "https://localhost:8080/"
        },
        "id": "QU3xKZmJz_wQ",
        "outputId": "1e55fddf-0efc-4d8e-f680-8d6ad6761683"
      },
      "execution_count": null,
      "outputs": [
        {
          "output_type": "stream",
          "name": "stdout",
          "text": [
            "[0 0 0 1 1 1 0 0 1 0 0 0 0 0 0 1 0 0 0 1 0 0 0 1 0 0 0 0 0 0 0 0 0 0 0 1 1\n",
            " 0 0 0 1 0 0 0 0 1 0 0 0 0 0 0 1 0 0 0 0 1 1 0 0 0 1 0 0 0 1 0 0 0 0 1 0 0\n",
            " 1]\n"
          ]
        }
      ]
    },
    {
      "cell_type": "code",
      "source": [
        "result_forest = compare_result(forest_y_pred, y_test_flat)"
      ],
      "metadata": {
        "id": "-OKZkoYs4Gc0"
      },
      "execution_count": null,
      "outputs": []
    },
    {
      "cell_type": "code",
      "source": [
        "result_forest"
      ],
      "metadata": {
        "colab": {
          "base_uri": "https://localhost:8080/",
          "height": 424
        },
        "id": "v3ZIOUXUyXBn",
        "outputId": "6c675ee2-8d54-4553-843a-5d8d344cfee3"
      },
      "execution_count": null,
      "outputs": [
        {
          "output_type": "execute_result",
          "data": {
            "text/plain": [
              "    y_pred  y_test\n",
              "0        0       0\n",
              "1        0       0\n",
              "2        0       0\n",
              "3        1       0\n",
              "4        1       0\n",
              "..     ...     ...\n",
              "70       0       0\n",
              "71       1       1\n",
              "72       0       0\n",
              "73       0       0\n",
              "74       1       1\n",
              "\n",
              "[75 rows x 2 columns]"
            ],
            "text/html": [
              "\n",
              "  <div id=\"df-37538690-6aeb-4555-a4c3-fc99bb3da1a8\">\n",
              "    <div class=\"colab-df-container\">\n",
              "      <div>\n",
              "<style scoped>\n",
              "    .dataframe tbody tr th:only-of-type {\n",
              "        vertical-align: middle;\n",
              "    }\n",
              "\n",
              "    .dataframe tbody tr th {\n",
              "        vertical-align: top;\n",
              "    }\n",
              "\n",
              "    .dataframe thead th {\n",
              "        text-align: right;\n",
              "    }\n",
              "</style>\n",
              "<table border=\"1\" class=\"dataframe\">\n",
              "  <thead>\n",
              "    <tr style=\"text-align: right;\">\n",
              "      <th></th>\n",
              "      <th>y_pred</th>\n",
              "      <th>y_test</th>\n",
              "    </tr>\n",
              "  </thead>\n",
              "  <tbody>\n",
              "    <tr>\n",
              "      <th>0</th>\n",
              "      <td>0</td>\n",
              "      <td>0</td>\n",
              "    </tr>\n",
              "    <tr>\n",
              "      <th>1</th>\n",
              "      <td>0</td>\n",
              "      <td>0</td>\n",
              "    </tr>\n",
              "    <tr>\n",
              "      <th>2</th>\n",
              "      <td>0</td>\n",
              "      <td>0</td>\n",
              "    </tr>\n",
              "    <tr>\n",
              "      <th>3</th>\n",
              "      <td>1</td>\n",
              "      <td>0</td>\n",
              "    </tr>\n",
              "    <tr>\n",
              "      <th>4</th>\n",
              "      <td>1</td>\n",
              "      <td>0</td>\n",
              "    </tr>\n",
              "    <tr>\n",
              "      <th>...</th>\n",
              "      <td>...</td>\n",
              "      <td>...</td>\n",
              "    </tr>\n",
              "    <tr>\n",
              "      <th>70</th>\n",
              "      <td>0</td>\n",
              "      <td>0</td>\n",
              "    </tr>\n",
              "    <tr>\n",
              "      <th>71</th>\n",
              "      <td>1</td>\n",
              "      <td>1</td>\n",
              "    </tr>\n",
              "    <tr>\n",
              "      <th>72</th>\n",
              "      <td>0</td>\n",
              "      <td>0</td>\n",
              "    </tr>\n",
              "    <tr>\n",
              "      <th>73</th>\n",
              "      <td>0</td>\n",
              "      <td>0</td>\n",
              "    </tr>\n",
              "    <tr>\n",
              "      <th>74</th>\n",
              "      <td>1</td>\n",
              "      <td>1</td>\n",
              "    </tr>\n",
              "  </tbody>\n",
              "</table>\n",
              "<p>75 rows × 2 columns</p>\n",
              "</div>\n",
              "      <button class=\"colab-df-convert\" onclick=\"convertToInteractive('df-37538690-6aeb-4555-a4c3-fc99bb3da1a8')\"\n",
              "              title=\"Convert this dataframe to an interactive table.\"\n",
              "              style=\"display:none;\">\n",
              "        \n",
              "  <svg xmlns=\"http://www.w3.org/2000/svg\" height=\"24px\"viewBox=\"0 0 24 24\"\n",
              "       width=\"24px\">\n",
              "    <path d=\"M0 0h24v24H0V0z\" fill=\"none\"/>\n",
              "    <path d=\"M18.56 5.44l.94 2.06.94-2.06 2.06-.94-2.06-.94-.94-2.06-.94 2.06-2.06.94zm-11 1L8.5 8.5l.94-2.06 2.06-.94-2.06-.94L8.5 2.5l-.94 2.06-2.06.94zm10 10l.94 2.06.94-2.06 2.06-.94-2.06-.94-.94-2.06-.94 2.06-2.06.94z\"/><path d=\"M17.41 7.96l-1.37-1.37c-.4-.4-.92-.59-1.43-.59-.52 0-1.04.2-1.43.59L10.3 9.45l-7.72 7.72c-.78.78-.78 2.05 0 2.83L4 21.41c.39.39.9.59 1.41.59.51 0 1.02-.2 1.41-.59l7.78-7.78 2.81-2.81c.8-.78.8-2.07 0-2.86zM5.41 20L4 18.59l7.72-7.72 1.47 1.35L5.41 20z\"/>\n",
              "  </svg>\n",
              "      </button>\n",
              "      \n",
              "  <style>\n",
              "    .colab-df-container {\n",
              "      display:flex;\n",
              "      flex-wrap:wrap;\n",
              "      gap: 12px;\n",
              "    }\n",
              "\n",
              "    .colab-df-convert {\n",
              "      background-color: #E8F0FE;\n",
              "      border: none;\n",
              "      border-radius: 50%;\n",
              "      cursor: pointer;\n",
              "      display: none;\n",
              "      fill: #1967D2;\n",
              "      height: 32px;\n",
              "      padding: 0 0 0 0;\n",
              "      width: 32px;\n",
              "    }\n",
              "\n",
              "    .colab-df-convert:hover {\n",
              "      background-color: #E2EBFA;\n",
              "      box-shadow: 0px 1px 2px rgba(60, 64, 67, 0.3), 0px 1px 3px 1px rgba(60, 64, 67, 0.15);\n",
              "      fill: #174EA6;\n",
              "    }\n",
              "\n",
              "    [theme=dark] .colab-df-convert {\n",
              "      background-color: #3B4455;\n",
              "      fill: #D2E3FC;\n",
              "    }\n",
              "\n",
              "    [theme=dark] .colab-df-convert:hover {\n",
              "      background-color: #434B5C;\n",
              "      box-shadow: 0px 1px 3px 1px rgba(0, 0, 0, 0.15);\n",
              "      filter: drop-shadow(0px 1px 2px rgba(0, 0, 0, 0.3));\n",
              "      fill: #FFFFFF;\n",
              "    }\n",
              "  </style>\n",
              "\n",
              "      <script>\n",
              "        const buttonEl =\n",
              "          document.querySelector('#df-37538690-6aeb-4555-a4c3-fc99bb3da1a8 button.colab-df-convert');\n",
              "        buttonEl.style.display =\n",
              "          google.colab.kernel.accessAllowed ? 'block' : 'none';\n",
              "\n",
              "        async function convertToInteractive(key) {\n",
              "          const element = document.querySelector('#df-37538690-6aeb-4555-a4c3-fc99bb3da1a8');\n",
              "          const dataTable =\n",
              "            await google.colab.kernel.invokeFunction('convertToInteractive',\n",
              "                                                     [key], {});\n",
              "          if (!dataTable) return;\n",
              "\n",
              "          const docLinkHtml = 'Like what you see? Visit the ' +\n",
              "            '<a target=\"_blank\" href=https://colab.research.google.com/notebooks/data_table.ipynb>data table notebook</a>'\n",
              "            + ' to learn more about interactive tables.';\n",
              "          element.innerHTML = '';\n",
              "          dataTable['output_type'] = 'display_data';\n",
              "          await google.colab.output.renderOutput(dataTable, element);\n",
              "          const docLink = document.createElement('div');\n",
              "          docLink.innerHTML = docLinkHtml;\n",
              "          element.appendChild(docLink);\n",
              "        }\n",
              "      </script>\n",
              "    </div>\n",
              "  </div>\n",
              "  "
            ]
          },
          "metadata": {},
          "execution_count": 85
        }
      ]
    },
    {
      "cell_type": "markdown",
      "source": [
        "# Conf. Matrix , model accuracy dll"
      ],
      "metadata": {
        "id": "qXWQMPD0-E5N"
      }
    },
    {
      "cell_type": "code",
      "source": [
        "from sklearn.metrics import confusion_matrix, accuracy_score"
      ],
      "metadata": {
        "id": "3F3l1a4E-KrV"
      },
      "execution_count": null,
      "outputs": []
    },
    {
      "cell_type": "markdown",
      "source": [
        "**LOGISTIC REGRESSION**"
      ],
      "metadata": {
        "id": "mgOphj9myuZR"
      }
    },
    {
      "cell_type": "code",
      "source": [
        "logistic_conf = confusion_matrix(y_test, logistic_y_pred)\n",
        "logistic_accuracy = accuracy_score(y_test, logistic_y_pred)\n",
        "print(logistic_conf)\n",
        "print('Accuracy :',logistic_accuracy)"
      ],
      "metadata": {
        "colab": {
          "base_uri": "https://localhost:8080/"
        },
        "id": "MgucAowSyuZS",
        "outputId": "3d07edb7-e708-49f0-87d6-54a010c6e898"
      },
      "execution_count": null,
      "outputs": [
        {
          "output_type": "stream",
          "name": "stdout",
          "text": [
            "[[44  5]\n",
            " [24  2]]\n",
            "Accuracy : 0.6133333333333333\n"
          ]
        }
      ]
    },
    {
      "cell_type": "markdown",
      "source": [
        "**K-NN Classification**"
      ],
      "metadata": {
        "id": "QHWtwZW3yuZT"
      }
    },
    {
      "cell_type": "code",
      "source": [
        "knn_conf = confusion_matrix(y_test, knn_y_pred)\n",
        "knn_accuracy = accuracy_score(y_test, knn_y_pred)\n",
        "print(knn_conf)\n",
        "print('Accuracy : ',knn_accuracy*100)\n"
      ],
      "metadata": {
        "colab": {
          "base_uri": "https://localhost:8080/"
        },
        "id": "04YP4TbTyuZU",
        "outputId": "ad87d819-84bb-49c2-81ad-ba289db2236d"
      },
      "execution_count": null,
      "outputs": [
        {
          "output_type": "stream",
          "name": "stdout",
          "text": [
            "[[47  2]\n",
            " [26  0]]\n",
            "Accuracy :  62.66666666666667\n"
          ]
        }
      ]
    },
    {
      "cell_type": "markdown",
      "source": [
        "**Linear SVM**"
      ],
      "metadata": {
        "id": "MlOzT7pPyuZU"
      }
    },
    {
      "cell_type": "code",
      "source": [
        "svm_conf = confusion_matrix(y_test, svm_y_pred)\n",
        "svm_accuracy = accuracy_score(y_test, svm_y_pred)\n",
        "print(svm_conf)\n",
        "print('Accuracy : ',svm_accuracy*100)"
      ],
      "metadata": {
        "colab": {
          "base_uri": "https://localhost:8080/"
        },
        "id": "ud-vB6CoyuZV",
        "outputId": "5ee1a70e-0402-4744-d5d8-3685c696dd6f"
      },
      "execution_count": null,
      "outputs": [
        {
          "output_type": "stream",
          "name": "stdout",
          "text": [
            "[[45  4]\n",
            " [25  1]]\n",
            "Accuracy :  61.33333333333333\n"
          ]
        }
      ]
    },
    {
      "cell_type": "markdown",
      "source": [
        "**Non Linear Kernel SVM**"
      ],
      "metadata": {
        "id": "Wwh-EGVeyuZV"
      }
    },
    {
      "cell_type": "code",
      "source": [
        "kernel_conf = confusion_matrix(y_test, kernel_y_pred)\n",
        "kernel_accuracy = accuracy_score(y_test, kernel_y_pred)\n",
        "print(kernel_conf)\n",
        "print('Accuracy : ',kernel_accuracy*100)"
      ],
      "metadata": {
        "colab": {
          "base_uri": "https://localhost:8080/"
        },
        "id": "GDHVPLeXyuZW",
        "outputId": "eb3f5376-cae2-48f9-a11e-d1e558e1a230"
      },
      "execution_count": null,
      "outputs": [
        {
          "output_type": "stream",
          "name": "stdout",
          "text": [
            "[[43  6]\n",
            " [24  2]]\n",
            "Accuracy :  60.0\n"
          ]
        }
      ]
    },
    {
      "cell_type": "markdown",
      "source": [
        "**Naive Bayes Classification**"
      ],
      "metadata": {
        "id": "dvaGxFgcyuZW"
      }
    },
    {
      "cell_type": "code",
      "source": [
        "naive_conf = confusion_matrix(y_test, naive_y_pred)\n",
        "naive_accuracy = accuracy_score(y_test, naive_y_pred)\n",
        "print(naive_conf)\n",
        "print('Accuracy : ',naive_accuracy*100)"
      ],
      "metadata": {
        "colab": {
          "base_uri": "https://localhost:8080/"
        },
        "id": "O145dgl5yuZX",
        "outputId": "939a9f99-3a8d-4923-ed52-33104f22b61c"
      },
      "execution_count": null,
      "outputs": [
        {
          "output_type": "stream",
          "name": "stdout",
          "text": [
            "[[46  3]\n",
            " [24  2]]\n",
            "Accuracy :  64.0\n"
          ]
        }
      ]
    },
    {
      "cell_type": "markdown",
      "source": [
        "**Decision Tree classification**"
      ],
      "metadata": {
        "id": "Q2-us5_iyuZX"
      }
    },
    {
      "cell_type": "code",
      "source": [
        "tree_conf = confusion_matrix(y_test, tree_y_pred)\n",
        "tree_accuracy = accuracy_score(y_test, tree_y_pred)\n",
        "print(tree_conf)\n",
        "print('Accuracy : ',tree_accuracy*100)"
      ],
      "metadata": {
        "colab": {
          "base_uri": "https://localhost:8080/"
        },
        "id": "d-Of8vdlyuZX",
        "outputId": "4a8de626-348d-4e7a-88bf-d9ca2436d590"
      },
      "execution_count": null,
      "outputs": [
        {
          "output_type": "stream",
          "name": "stdout",
          "text": [
            "[[34 15]\n",
            " [15 11]]\n",
            "Accuracy :  60.0\n"
          ]
        }
      ]
    },
    {
      "cell_type": "markdown",
      "source": [
        "**Random Forest Classification**"
      ],
      "metadata": {
        "id": "L1abuBG5yuZY"
      }
    },
    {
      "cell_type": "code",
      "source": [
        "forest_conf = confusion_matrix(y_test, forest_y_pred)\n",
        "forest_accuracy = accuracy_score(y_test, forest_y_pred)\n",
        "print(forest_conf)\n",
        "print('Accuracy : ',forest_accuracy*100)"
      ],
      "metadata": {
        "colab": {
          "base_uri": "https://localhost:8080/"
        },
        "id": "JpLVB9kayuZa",
        "outputId": "345790b5-bd7e-446e-c587-f0a3ee744d96"
      },
      "execution_count": null,
      "outputs": [
        {
          "output_type": "stream",
          "name": "stdout",
          "text": [
            "[[39 10]\n",
            " [18  8]]\n",
            "Accuracy :  62.66666666666667\n"
          ]
        }
      ]
    },
    {
      "cell_type": "markdown",
      "source": [
        "# Cap Curve dan plotting con.matrix dll"
      ],
      "metadata": {
        "id": "pEayHFYp-qH8"
      }
    },
    {
      "cell_type": "code",
      "source": [
        "from sklearn.metrics import RocCurveDisplay, ConfusionMatrixDisplay\n",
        "from scipy import integrate"
      ],
      "metadata": {
        "id": "eLpGoNQr-6qd"
      },
      "execution_count": null,
      "outputs": []
    },
    {
      "cell_type": "code",
      "source": [
        "def capcurve(y_values, y_preds_proba):\n",
        "    num_pos_obs = np.sum(y_values)\n",
        "    num_count = len(y_values)\n",
        "    rate_pos_obs = float(num_pos_obs) / float(num_count)\n",
        "    ideal = pd.DataFrame({'x': [0, rate_pos_obs, 1], 'y': [0, 1, 1]})\n",
        "    xx = np.arange(num_count) / float(num_count - 1)\n",
        "\n",
        "    y_cap = np.c_[y_values, y_preds_proba]\n",
        "    y_cap_df_s = pd.DataFrame(data=y_cap)\n",
        "    y_cap_df_s = y_cap_df_s.sort_values([1], ascending=False).reset_index(level=y_cap_df_s.index.names, drop=True)\n",
        "\n",
        "    print(y_cap_df_s.head(20))\n",
        "\n",
        "    yy = np.cumsum(y_cap_df_s[0]) / float(num_pos_obs)\n",
        "    yy = np.append([0], yy[0:num_count - 1])  # add the first curve point (0,0) : for xx=0 we have yy=0\n",
        "\n",
        "    percent = 0.5\n",
        "    row_index = int(np.trunc(num_count * percent))\n",
        "\n",
        "    val_y1 = yy[row_index]\n",
        "    val_y2 = yy[row_index + 1]\n",
        "    if val_y1 == val_y2:\n",
        "        val = val_y1 * 1.0\n",
        "    else:\n",
        "        val_x1 = xx[row_index]\n",
        "        val_x2 = xx[row_index + 1]\n",
        "        val = val_y1 + ((val_x2 - percent) / (val_x2 - val_x1)) * (val_y2 - val_y1)\n",
        "\n",
        "    sigma_ideal = 1 * xx[num_pos_obs - 1] / 2 + (xx[num_count - 1] - xx[num_pos_obs]) * 1\n",
        "    sigma_model = integrate.simps(yy, xx)\n",
        "    sigma_random = integrate.simps(xx, xx)\n",
        "\n",
        "    ar_value = (sigma_model - sigma_random) / (sigma_ideal - sigma_random)\n",
        "\n",
        "    fig, ax = plt.subplots(nrows=1, ncols=1)\n",
        "    ax.plot(ideal['x'], ideal['y'], color='grey', label='Perfect Model')\n",
        "    ax.plot(xx, yy, color='red', label='User Model')\n",
        "    ax.plot(xx, xx, color='blue', label='Random Model')\n",
        "    ax.plot([percent, percent], [0.0, val], color='green', linestyle='--', linewidth=1)\n",
        "    ax.plot([0, percent], [val, val], color='green', linestyle='--', linewidth=1,\n",
        "            label=str(val * 100) + '% of positive obs at ' + str(percent * 100) + '%')\n",
        "\n",
        "    plt.xlim(0, 1.02)\n",
        "    plt.ylim(0, 1.25)\n",
        "    plt.title(\"CAP Curve - a_r value =\" + str(ar_value))\n",
        "    plt.xlabel('% of the data')\n",
        "    plt.ylabel('% of positive obs')\n",
        "    plt.legend()\n",
        "    plt.show()"
      ],
      "metadata": {
        "id": "BMUPEA2qy684"
      },
      "execution_count": null,
      "outputs": []
    },
    {
      "cell_type": "markdown",
      "source": [
        "**DISPLAYING CONFUSION MATRIX**"
      ],
      "metadata": {
        "id": "P1Y11mu2zYwb"
      }
    },
    {
      "cell_type": "markdown",
      "source": [
        "**LOGISTIC REGRESSION**"
      ],
      "metadata": {
        "id": "MqTeSX-Qy5ie"
      }
    },
    {
      "cell_type": "code",
      "source": [
        "log_disp = ConfusionMatrixDisplay(confusion_matrix=logistic_conf, display_labels=logistic_classifier.classes_)\n",
        "log_disp.plot()\n",
        "print(logistic_conf)"
      ],
      "metadata": {
        "colab": {
          "base_uri": "https://localhost:8080/",
          "height": 314
        },
        "outputId": "c056686d-dbce-4f97-e23b-6e097dff3638",
        "id": "SZbF8zEcy5ig"
      },
      "execution_count": null,
      "outputs": [
        {
          "output_type": "stream",
          "name": "stdout",
          "text": [
            "[[44  5]\n",
            " [24  2]]\n"
          ]
        },
        {
          "output_type": "display_data",
          "data": {
            "text/plain": [
              "<Figure size 432x288 with 2 Axes>"
            ],
            "image/png": "[encoded data removed]"
          },
          "metadata": {
            "needs_background": "light"
          }
        }
      ]
    },
    {
      "cell_type": "markdown",
      "source": [
        "**K-NN Classification**"
      ],
      "metadata": {
        "id": "lrBzu3XXy5ih"
      }
    },
    {
      "cell_type": "code",
      "source": [
        "knn_disp = ConfusionMatrixDisplay(confusion_matrix=knn_conf, display_labels=knn_classifier.classes_)\n",
        "knn_disp.plot()\n",
        "print(knn_conf)"
      ],
      "metadata": {
        "colab": {
          "base_uri": "https://localhost:8080/",
          "height": 314
        },
        "outputId": "4d56de4b-22f7-4119-8005-f269cb2f9cea",
        "id": "dm4V-mIEy5ii"
      },
      "execution_count": null,
      "outputs": [
        {
          "output_type": "stream",
          "name": "stdout",
          "text": [
            "[[47  2]\n",
            " [26  0]]\n"
          ]
        },
        {
          "output_type": "display_data",
          "data": {
            "text/plain": [
              "<Figure size 432x288 with 2 Axes>"
            ],
            "image/png": "[encoded data removed]"
          },
          "metadata": {
            "needs_background": "light"
          }
        }
      ]
    },
    {
      "cell_type": "markdown",
      "source": [
        "**Linear SVM**"
      ],
      "metadata": {
        "id": "jn7EOzTKy5ik"
      }
    },
    {
      "cell_type": "code",
      "source": [
        "svm_disp = ConfusionMatrixDisplay(confusion_matrix=svm_conf, display_labels=svm_classifier.classes_)\n",
        "svm_disp.plot()\n",
        "print(svm_conf)"
      ],
      "metadata": {
        "colab": {
          "base_uri": "https://localhost:8080/",
          "height": 318
        },
        "outputId": "d4670388-eb13-4025-fae9-ba25eb2e264c",
        "id": "WLIeZ3V3y5il"
      },
      "execution_count": null,
      "outputs": [
        {
          "output_type": "stream",
          "name": "stdout",
          "text": [
            "[[45  4]\n",
            " [25  1]]\n"
          ]
        },
        {
          "output_type": "display_data",
          "data": {
            "text/plain": [
              "<Figure size 432x288 with 2 Axes>"
            ],
            "image/png": "[encoded data removed]"
          },
          "metadata": {
            "needs_background": "light"
          }
        }
      ]
    },
    {
      "cell_type": "markdown",
      "source": [
        "**Non Linear Kernel SVM**"
      ],
      "metadata": {
        "id": "rb33CELNy5im"
      }
    },
    {
      "cell_type": "code",
      "source": [
        "kernel_svm_disp = ConfusionMatrixDisplay(confusion_matrix=kernel_conf, display_labels=kernel_classifier.classes_)\n",
        "kernel_svm_disp.plot()\n",
        "print(kernel_conf)"
      ],
      "metadata": {
        "colab": {
          "base_uri": "https://localhost:8080/",
          "height": 314
        },
        "outputId": "443422e7-9f52-4eaa-93cb-801f68c31639",
        "id": "H9C__lLjy5im"
      },
      "execution_count": null,
      "outputs": [
        {
          "output_type": "stream",
          "name": "stdout",
          "text": [
            "[[43  6]\n",
            " [24  2]]\n"
          ]
        },
        {
          "output_type": "display_data",
          "data": {
            "text/plain": [
              "<Figure size 432x288 with 2 Axes>"
            ],
            "image/png": "[encoded data removed]"
          },
          "metadata": {
            "needs_background": "light"
          }
        }
      ]
    },
    {
      "cell_type": "markdown",
      "source": [
        "**Naive Bayes Classification**"
      ],
      "metadata": {
        "id": "BBQ7bBQSy5io"
      }
    },
    {
      "cell_type": "code",
      "source": [
        "naive_disp = ConfusionMatrixDisplay(confusion_matrix=naive_conf, display_labels=naive_classifier.classes_)\n",
        "naive_disp.plot()\n",
        "print(naive_conf)"
      ],
      "metadata": {
        "colab": {
          "base_uri": "https://localhost:8080/",
          "height": 314
        },
        "outputId": "17bb0c0c-a9dc-4c36-9a1a-7b3be2a33142",
        "id": "ifZWAKBcy5io"
      },
      "execution_count": null,
      "outputs": [
        {
          "output_type": "stream",
          "name": "stdout",
          "text": [
            "[[46  3]\n",
            " [24  2]]\n"
          ]
        },
        {
          "output_type": "display_data",
          "data": {
            "text/plain": [
              "<Figure size 432x288 with 2 Axes>"
            ],
            "image/png": "[encoded data removed]"
          },
          "metadata": {
            "needs_background": "light"
          }
        }
      ]
    },
    {
      "cell_type": "markdown",
      "source": [
        "**Decision Tree classification**"
      ],
      "metadata": {
        "id": "ZFnQNW_zy5ip"
      }
    },
    {
      "cell_type": "code",
      "source": [
        "tree_disp = ConfusionMatrixDisplay(confusion_matrix=tree_conf, display_labels=tree_classifier.classes_)\n",
        "tree_disp.plot()\n",
        "print(tree_conf)"
      ],
      "metadata": {
        "colab": {
          "base_uri": "https://localhost:8080/",
          "height": 314
        },
        "outputId": "bee8e779-e2d5-4d2c-97a6-51b9bc749848",
        "id": "Qtzm2_aCy5iq"
      },
      "execution_count": null,
      "outputs": [
        {
          "output_type": "stream",
          "name": "stdout",
          "text": [
            "[[34 15]\n",
            " [15 11]]\n"
          ]
        },
        {
          "output_type": "display_data",
          "data": {
            "text/plain": [
              "<Figure size 432x288 with 2 Axes>"
            ],
            "image/png": "[encoded data removed]"
          },
          "metadata": {
            "needs_background": "light"
          }
        }
      ]
    },
    {
      "cell_type": "markdown",
      "source": [
        "**Random Forest Classification**"
      ],
      "metadata": {
        "id": "ICZGxfwiy5iq"
      }
    },
    {
      "cell_type": "code",
      "source": [
        "forest_disp = ConfusionMatrixDisplay(confusion_matrix=forest_conf, display_labels=forest_classifier.classes_)\n",
        "forest_disp.plot()\n",
        "print(forest_conf)"
      ],
      "metadata": {
        "colab": {
          "base_uri": "https://localhost:8080/",
          "height": 314
        },
        "outputId": "c5c2619c-efb8-4a9f-f338-34274ab1478a",
        "id": "gaWpM1exy5ir"
      },
      "execution_count": null,
      "outputs": [
        {
          "output_type": "stream",
          "name": "stdout",
          "text": [
            "[[39 10]\n",
            " [18  8]]\n"
          ]
        },
        {
          "output_type": "display_data",
          "data": {
            "text/plain": [
              "<Figure size 432x288 with 2 Axes>"
            ],
            "image/png": "[encoded data removed]"
          },
          "metadata": {
            "needs_background": "light"
          }
        }
      ]
    },
    {
      "cell_type": "markdown",
      "source": [
        "**CAP CURVE**"
      ],
      "metadata": {
        "id": "HKctTTud37Fr"
      }
    },
    {
      "cell_type": "markdown",
      "source": [
        "**LOGISTIC REGRESSION**"
      ],
      "metadata": {
        "id": "ty0SK2bP4IEa"
      }
    },
    {
      "cell_type": "code",
      "source": [
        "capcurve(y_test, logistic_classifier.predict_proba(x_test))"
      ],
      "metadata": {
        "colab": {
          "base_uri": "https://localhost:8080/",
          "height": 660
        },
        "outputId": "61e632d2-69f4-4828-c0be-c6e8f62c2cc2",
        "id": "0b3eQIBI4IEe"
      },
      "execution_count": null,
      "outputs": [
        {
          "output_type": "stream",
          "name": "stdout",
          "text": [
            "      0         1         2\n",
            "0   0.0  0.935616  0.064384\n",
            "1   0.0  0.909682  0.090318\n",
            "2   0.0  0.907147  0.092853\n",
            "3   0.0  0.903721  0.096279\n",
            "4   0.0  0.902573  0.097427\n",
            "5   0.0  0.895765  0.104235\n",
            "6   1.0  0.883146  0.116854\n",
            "7   0.0  0.882211  0.117789\n",
            "8   0.0  0.873047  0.126953\n",
            "9   0.0  0.865797  0.134203\n",
            "10  0.0  0.864726  0.135274\n",
            "11  0.0  0.862361  0.137639\n",
            "12  0.0  0.853277  0.146723\n",
            "13  0.0  0.849692  0.150308\n",
            "14  0.0  0.843851  0.156149\n",
            "15  1.0  0.835196  0.164804\n",
            "16  0.0  0.829906  0.170094\n",
            "17  0.0  0.826761  0.173239\n",
            "18  0.0  0.821207  0.178793\n",
            "19  0.0  0.813723  0.186277\n"
          ]
        },
        {
          "output_type": "display_data",
          "data": {
            "text/plain": [
              "<Figure size 432x288 with 1 Axes>"
            ],
            "image/png": "[encoded data removed]"
          },
          "metadata": {
            "needs_background": "light"
          }
        }
      ]
    },
    {
      "cell_type": "markdown",
      "source": [
        "**K-NN Classification**"
      ],
      "metadata": {
        "id": "Am6-UGbY4IEh"
      }
    },
    {
      "cell_type": "code",
      "source": [
        "capcurve(y_test, knn_classifier.predict_proba(x_test))"
      ],
      "metadata": {
        "colab": {
          "base_uri": "https://localhost:8080/",
          "height": 660
        },
        "outputId": "7f472d9f-5fed-4056-b8c4-3dce3a13aeee",
        "id": "RQCAe9Ny4IEi"
      },
      "execution_count": null,
      "outputs": [
        {
          "output_type": "stream",
          "name": "stdout",
          "text": [
            "      0    1    2\n",
            "0   0.0  1.0  0.0\n",
            "1   0.0  1.0  0.0\n",
            "2   1.0  1.0  0.0\n",
            "3   0.0  1.0  0.0\n",
            "4   0.0  1.0  0.0\n",
            "5   0.0  1.0  0.0\n",
            "6   0.0  1.0  0.0\n",
            "7   0.0  0.9  0.1\n",
            "8   0.0  0.9  0.1\n",
            "9   0.0  0.9  0.1\n",
            "10  0.0  0.9  0.1\n",
            "11  0.0  0.9  0.1\n",
            "12  1.0  0.9  0.1\n",
            "13  1.0  0.9  0.1\n",
            "14  0.0  0.9  0.1\n",
            "15  1.0  0.9  0.1\n",
            "16  0.0  0.9  0.1\n",
            "17  0.0  0.9  0.1\n",
            "18  1.0  0.9  0.1\n",
            "19  0.0  0.9  0.1\n"
          ]
        },
        {
          "output_type": "display_data",
          "data": {
            "text/plain": [
              "<Figure size 432x288 with 1 Axes>"
            ],
            "image/png": "[encoded data removed]"
          },
          "metadata": {
            "needs_background": "light"
          }
        }
      ]
    },
    {
      "cell_type": "markdown",
      "source": [
        "**Linear SVM**"
      ],
      "metadata": {
        "id": "QTBri7Gk4IEk"
      }
    },
    {
      "cell_type": "code",
      "source": [
        "capcurve(y_test, svm_classifier.predict_proba(x_test))"
      ],
      "metadata": {
        "colab": {
          "base_uri": "https://localhost:8080/",
          "height": 660
        },
        "outputId": "92021acd-c026-420a-de3e-cc5a5282bd94",
        "id": "5_2BFe-b4IEl"
      },
      "execution_count": null,
      "outputs": [
        {
          "output_type": "stream",
          "name": "stdout",
          "text": [
            "      0         1         2\n",
            "0   0.0  0.834682  0.165318\n",
            "1   0.0  0.822589  0.177411\n",
            "2   0.0  0.819431  0.180569\n",
            "3   1.0  0.813131  0.186869\n",
            "4   0.0  0.812386  0.187614\n",
            "5   0.0  0.809004  0.190996\n",
            "6   0.0  0.804595  0.195405\n",
            "7   0.0  0.803805  0.196195\n",
            "8   1.0  0.798850  0.201150\n",
            "9   0.0  0.798480  0.201520\n",
            "10  0.0  0.792653  0.207347\n",
            "11  0.0  0.791833  0.208167\n",
            "12  0.0  0.791131  0.208869\n",
            "13  0.0  0.790825  0.209175\n",
            "14  0.0  0.790809  0.209191\n",
            "15  0.0  0.786892  0.213108\n",
            "16  0.0  0.780646  0.219354\n",
            "17  0.0  0.779760  0.220240\n",
            "18  0.0  0.773437  0.226563\n",
            "19  1.0  0.772191  0.227809\n"
          ]
        },
        {
          "output_type": "display_data",
          "data": {
            "text/plain": [
              "<Figure size 432x288 with 1 Axes>"
            ],
            "image/png": "[encoded data removed]"
          },
          "metadata": {
            "needs_background": "light"
          }
        }
      ]
    },
    {
      "cell_type": "markdown",
      "source": [
        "**Non Linear Kernel SVM**"
      ],
      "metadata": {
        "id": "4Bj1uhi_4IEm"
      }
    },
    {
      "cell_type": "code",
      "source": [
        "capcurve(y_test, kernel_classifier.predict_proba(x_test))"
      ],
      "metadata": {
        "colab": {
          "base_uri": "https://localhost:8080/",
          "height": 660
        },
        "outputId": "bc85d3fe-eb32-44c5-915d-1288462bdac7",
        "id": "aLXAVnP84IEp"
      },
      "execution_count": null,
      "outputs": [
        {
          "output_type": "stream",
          "name": "stdout",
          "text": [
            "      0         1         2\n",
            "0   0.0  0.885823  0.114177\n",
            "1   0.0  0.880646  0.119354\n",
            "2   0.0  0.849867  0.150133\n",
            "3   1.0  0.846670  0.153330\n",
            "4   0.0  0.846644  0.153356\n",
            "5   0.0  0.839920  0.160080\n",
            "6   0.0  0.831942  0.168058\n",
            "7   0.0  0.824255  0.175745\n",
            "8   1.0  0.823291  0.176709\n",
            "9   0.0  0.822627  0.177373\n",
            "10  0.0  0.821480  0.178520\n",
            "11  1.0  0.818177  0.181823\n",
            "12  0.0  0.817731  0.182269\n",
            "13  0.0  0.812066  0.187934\n",
            "14  1.0  0.811791  0.188209\n",
            "15  0.0  0.803734  0.196266\n",
            "16  1.0  0.802949  0.197051\n",
            "17  0.0  0.802848  0.197152\n",
            "18  0.0  0.802394  0.197606\n",
            "19  1.0  0.802214  0.197786\n"
          ]
        },
        {
          "output_type": "display_data",
          "data": {
            "text/plain": [
              "<Figure size 432x288 with 1 Axes>"
            ],
            "image/png": "[encoded data removed]"
          },
          "metadata": {
            "needs_background": "light"
          }
        }
      ]
    },
    {
      "cell_type": "markdown",
      "source": [
        "**Naive Bayes Classification**"
      ],
      "metadata": {
        "id": "U66Mxfk-4IEq"
      }
    },
    {
      "cell_type": "code",
      "source": [
        "capcurve(y_test, naive_classifier.predict_proba(x_test))"
      ],
      "metadata": {
        "colab": {
          "base_uri": "https://localhost:8080/",
          "height": 660
        },
        "outputId": "e744f43e-e5af-4f93-8a80-3be1115c5ee0",
        "id": "00nvsVZg4IEr"
      },
      "execution_count": null,
      "outputs": [
        {
          "output_type": "stream",
          "name": "stdout",
          "text": [
            "      0         1         2\n",
            "0   0.0  0.962142  0.037858\n",
            "1   0.0  0.956376  0.043624\n",
            "2   0.0  0.950401  0.049599\n",
            "3   0.0  0.948992  0.051008\n",
            "4   0.0  0.947094  0.052906\n",
            "5   0.0  0.946911  0.053089\n",
            "6   0.0  0.944386  0.055614\n",
            "7   0.0  0.943086  0.056914\n",
            "8   0.0  0.942807  0.057193\n",
            "9   0.0  0.940085  0.059915\n",
            "10  0.0  0.940059  0.059941\n",
            "11  0.0  0.939517  0.060483\n",
            "12  1.0  0.936371  0.063629\n",
            "13  0.0  0.935313  0.064687\n",
            "14  0.0  0.932629  0.067371\n",
            "15  0.0  0.932152  0.067848\n",
            "16  0.0  0.927244  0.072756\n",
            "17  1.0  0.925216  0.074784\n",
            "18  0.0  0.925203  0.074797\n",
            "19  0.0  0.923745  0.076255\n"
          ]
        },
        {
          "output_type": "display_data",
          "data": {
            "text/plain": [
              "<Figure size 432x288 with 1 Axes>"
            ],
            "image/png": "[encoded data removed]"
          },
          "metadata": {
            "needs_background": "light"
          }
        }
      ]
    },
    {
      "cell_type": "markdown",
      "source": [
        "**Decision Tree classification**"
      ],
      "metadata": {
        "id": "YH2NuWOv4IEr"
      }
    },
    {
      "cell_type": "code",
      "source": [
        "capcurve(y_test, tree_classifier.predict_proba(x_test))"
      ],
      "metadata": {
        "colab": {
          "base_uri": "https://localhost:8080/",
          "height": 660
        },
        "outputId": "46ff1f35-7b1c-4a51-fc79-7f286d946099",
        "id": "Ts_DXApi4IEs"
      },
      "execution_count": null,
      "outputs": [
        {
          "output_type": "stream",
          "name": "stdout",
          "text": [
            "      0    1    2\n",
            "0   0.0  1.0  0.0\n",
            "1   0.0  1.0  0.0\n",
            "2   0.0  1.0  0.0\n",
            "3   0.0  1.0  0.0\n",
            "4   1.0  1.0  0.0\n",
            "5   1.0  1.0  0.0\n",
            "6   0.0  1.0  0.0\n",
            "7   0.0  1.0  0.0\n",
            "8   0.0  1.0  0.0\n",
            "9   1.0  1.0  0.0\n",
            "10  0.0  1.0  0.0\n",
            "11  1.0  1.0  0.0\n",
            "12  0.0  1.0  0.0\n",
            "13  0.0  1.0  0.0\n",
            "14  0.0  1.0  0.0\n",
            "15  0.0  1.0  0.0\n",
            "16  1.0  1.0  0.0\n",
            "17  0.0  1.0  0.0\n",
            "18  0.0  1.0  0.0\n",
            "19  1.0  1.0  0.0\n"
          ]
        },
        {
          "output_type": "display_data",
          "data": {
            "text/plain": [
              "<Figure size 432x288 with 1 Axes>"
            ],
            "image/png": "[encoded data removed]"
          },
          "metadata": {
            "needs_background": "light"
          }
        }
      ]
    },
    {
      "cell_type": "markdown",
      "source": [
        "**Random Forest Classification**"
      ],
      "metadata": {
        "id": "rXw3VHXg4IEt"
      }
    },
    {
      "cell_type": "code",
      "source": [
        "capcurve(y_test, forest_classifier.predict_proba(x_test))"
      ],
      "metadata": {
        "colab": {
          "base_uri": "https://localhost:8080/",
          "height": 660
        },
        "outputId": "6ad2b5e1-5a9a-4869-a7b1-32a00697ed2e",
        "id": "qLozFVXP4IEu"
      },
      "execution_count": null,
      "outputs": [
        {
          "output_type": "stream",
          "name": "stdout",
          "text": [
            "      0    1    2\n",
            "0   1.0  1.0  0.0\n",
            "1   0.0  1.0  0.0\n",
            "2   0.0  1.0  0.0\n",
            "3   0.0  1.0  0.0\n",
            "4   0.0  1.0  0.0\n",
            "5   0.0  1.0  0.0\n",
            "6   0.0  1.0  0.0\n",
            "7   1.0  1.0  0.0\n",
            "8   0.0  1.0  0.0\n",
            "9   0.0  1.0  0.0\n",
            "10  0.0  0.9  0.1\n",
            "11  0.0  0.9  0.1\n",
            "12  0.0  0.9  0.1\n",
            "13  0.0  0.9  0.1\n",
            "14  0.0  0.9  0.1\n",
            "15  1.0  0.9  0.1\n",
            "16  0.0  0.9  0.1\n",
            "17  1.0  0.9  0.1\n",
            "18  0.0  0.9  0.1\n",
            "19  1.0  0.9  0.1\n"
          ]
        },
        {
          "output_type": "display_data",
          "data": {
            "text/plain": [
              "<Figure size 432x288 with 1 Axes>"
            ],
            "image/png": "[encoded data removed]"
          },
          "metadata": {
            "needs_background": "light"
          }
        }
      ]
    },
    {
      "cell_type": "markdown",
      "source": [
        "# CONVERT JUPYTER TO WORD"
      ],
      "metadata": {
        "id": "ucpaGEk433wP"
      }
    },
    {
      "cell_type": "code",
      "source": [
        "!pip install pandoc"
      ],
      "metadata": {
        "colab": {
          "base_uri": "https://localhost:8080/"
        },
        "id": "9dB9JHXc33Pe",
        "outputId": "4d4e2669-0d56-491f-ce4e-2d73fa1ee45c"
      },
      "execution_count": null,
      "outputs": [
        {
          "output_type": "stream",
          "name": "stdout",
          "text": [
            "Looking in indexes: https://pypi.org/simple, https://us-python.pkg.dev/colab-wheels/public/simple/\n",
            "Collecting pandoc\n",
            "  Downloading pandoc-2.2.tar.gz (29 kB)\n",
            "Collecting plumbum\n",
            "  Downloading plumbum-1.8.0-py3-none-any.whl (117 kB)\n",
            "\u001b[K     |████████████████████████████████| 117 kB 7.7 MB/s \n",
            "\u001b[?25hCollecting ply\n",
            "  Downloading ply-3.11-py2.py3-none-any.whl (49 kB)\n",
            "\u001b[K     |████████████████████████████████| 49 kB 6.0 MB/s \n",
            "\u001b[?25hBuilding wheels for collected packages: pandoc\n",
            "  Building wheel for pandoc (setup.py) ... \u001b[?25l\u001b[?25hdone\n",
            "  Created wheel for pandoc: filename=pandoc-2.2-py3-none-any.whl size=29558 sha256=57d3521b6792c62cc32f98e89818e1c280148370474b4401b9eb4f44e2605dd0\n",
            "  Stored in directory: /root/.cache/pip/wheels/e7/e3/1e/31f9b28058a3fc0b63be4076a4e9f6ac79c332bb7e1d6c4ec9\n",
            "Successfully built pandoc\n",
            "Installing collected packages: ply, plumbum, pandoc\n",
            "Successfully installed pandoc-2.2 plumbum-1.8.0 ply-3.11\n"
          ]
        }
      ]
    },
    {
      "cell_type": "code",
      "source": [
        "import pandoc"
      ],
      "metadata": {
        "id": "h9LZGzi74AfE"
      },
      "execution_count": null,
      "outputs": []
    },
    {
      "cell_type": "code",
      "source": [
        "!jupyter nbconvert -- to html /content/drive/MyDrive/Semester_5/Sistem_Cerdas/siscer.ipynb"
      ],
      "metadata": {
        "colab": {
          "base_uri": "https://localhost:8080/"
        },
        "id": "GkiTbtAU4EHE",
        "outputId": "a1655e92-98d8-4c93-e436-d1bb000376b6"
      },
      "execution_count": null,
      "outputs": [
        {
          "output_type": "stream",
          "name": "stdout",
          "text": [
            "[NbConvertApp] WARNING | pattern 'to' matched no files\n",
            "[NbConvertApp] WARNING | pattern 'html' matched no files\n",
            "[NbConvertApp] Converting notebook /content/drive/MyDrive/Semester_5/Sistem_Cerdas/siscer.ipynb to html\n",
            "[NbConvertApp] Writing 869424 bytes to /content/drive/MyDrive/Semester_5/Sistem_Cerdas/siscer.html\n"
          ]
        }
      ]
    },
    {
      "cell_type": "code",
      "source": [
        "!pandoc /content/drive/MyDrive/Semester_5/Sistem_Cerdas/siscer.html -s -o siscer.docx"
      ],
      "metadata": {
        "id": "2h2LZkQF6GMH"
      },
      "execution_count": null,
      "outputs": []
    },
    {
      "cell_type": "code",
      "source": [
        "import tensorflow_datasets as tfds"
      ],
      "metadata": {
        "id": "zrbTV60lDQM-"
      },
      "execution_count": null,
      "outputs": []
    },
    {
      "cell_type": "code",
      "source": [
        "data = tfds.load('movielens/100k-ratings', split ='train', with_info=True)"
      ],
      "metadata": {
        "id": "9AsnpeEdDR46"
      },
      "execution_count": null,
      "outputs": []
    },
    {
      "cell_type": "code",
      "source": [
        "tfds.as_dataframe(data[0]).describe()"
      ],
      "metadata": {
        "colab": {
          "base_uri": "https://localhost:8080/",
          "height": 300
        },
        "id": "swJddu7sFx4v",
        "outputId": "fd9b72bb-c3da-4f9d-86c9-f6d81f952f8e"
      },
      "execution_count": null,
      "outputs": [
        {
          "output_type": "execute_result",
          "data": {
            "text/plain": [
              "       bucketized_user_age   raw_user_age     timestamp  \\\n",
              "count        100000.000000  100000.000000  1.000000e+05   \n",
              "mean             29.235460      32.969849  8.835289e+08   \n",
              "std              12.005926      11.562623  5.343856e+06   \n",
              "min               1.000000       7.000000  8.747247e+08   \n",
              "25%              18.000000      24.000000  8.794487e+08   \n",
              "50%              25.000000      30.000000  8.828269e+08   \n",
              "75%              35.000000      40.000000  8.882600e+08   \n",
              "max              56.000000      73.000000  8.932866e+08   \n",
              "\n",
              "       user_occupation_label    user_rating  \n",
              "count          100000.000000  100000.000000  \n",
              "mean               11.404320       3.529860  \n",
              "std                 6.549283       1.125674  \n",
              "min                 0.000000       1.000000  \n",
              "25%                 6.000000       3.000000  \n",
              "50%                12.000000       4.000000  \n",
              "75%                17.000000       4.000000  \n",
              "max                21.000000       5.000000  "
            ],
            "text/html": [
              "\n",
              "  <div id=\"df-1a67b91f-f94a-483b-ba83-2af327507a55\">\n",
              "    <div class=\"colab-df-container\">\n",
              "      <div>\n",
              "<style scoped>\n",
              "    .dataframe tbody tr th:only-of-type {\n",
              "        vertical-align: middle;\n",
              "    }\n",
              "\n",
              "    .dataframe tbody tr th {\n",
              "        vertical-align: top;\n",
              "    }\n",
              "\n",
              "    .dataframe thead th {\n",
              "        text-align: right;\n",
              "    }\n",
              "</style>\n",
              "<table border=\"1\" class=\"dataframe\">\n",
              "  <thead>\n",
              "    <tr style=\"text-align: right;\">\n",
              "      <th></th>\n",
              "      <th>bucketized_user_age</th>\n",
              "      <th>raw_user_age</th>\n",
              "      <th>timestamp</th>\n",
              "      <th>user_occupation_label</th>\n",
              "      <th>user_rating</th>\n",
              "    </tr>\n",
              "  </thead>\n",
              "  <tbody>\n",
              "    <tr>\n",
              "      <th>count</th>\n",
              "      <td>100000.000000</td>\n",
              "      <td>100000.000000</td>\n",
              "      <td>1.000000e+05</td>\n",
              "      <td>100000.000000</td>\n",
              "      <td>100000.000000</td>\n",
              "    </tr>\n",
              "    <tr>\n",
              "      <th>mean</th>\n",
              "      <td>29.235460</td>\n",
              "      <td>32.969849</td>\n",
              "      <td>8.835289e+08</td>\n",
              "      <td>11.404320</td>\n",
              "      <td>3.529860</td>\n",
              "    </tr>\n",
              "    <tr>\n",
              "      <th>std</th>\n",
              "      <td>12.005926</td>\n",
              "      <td>11.562623</td>\n",
              "      <td>5.343856e+06</td>\n",
              "      <td>6.549283</td>\n",
              "      <td>1.125674</td>\n",
              "    </tr>\n",
              "    <tr>\n",
              "      <th>min</th>\n",
              "      <td>1.000000</td>\n",
              "      <td>7.000000</td>\n",
              "      <td>8.747247e+08</td>\n",
              "      <td>0.000000</td>\n",
              "      <td>1.000000</td>\n",
              "    </tr>\n",
              "    <tr>\n",
              "      <th>25%</th>\n",
              "      <td>18.000000</td>\n",
              "      <td>24.000000</td>\n",
              "      <td>8.794487e+08</td>\n",
              "      <td>6.000000</td>\n",
              "      <td>3.000000</td>\n",
              "    </tr>\n",
              "    <tr>\n",
              "      <th>50%</th>\n",
              "      <td>25.000000</td>\n",
              "      <td>30.000000</td>\n",
              "      <td>8.828269e+08</td>\n",
              "      <td>12.000000</td>\n",
              "      <td>4.000000</td>\n",
              "    </tr>\n",
              "    <tr>\n",
              "      <th>75%</th>\n",
              "      <td>35.000000</td>\n",
              "      <td>40.000000</td>\n",
              "      <td>8.882600e+08</td>\n",
              "      <td>17.000000</td>\n",
              "      <td>4.000000</td>\n",
              "    </tr>\n",
              "    <tr>\n",
              "      <th>max</th>\n",
              "      <td>56.000000</td>\n",
              "      <td>73.000000</td>\n",
              "      <td>8.932866e+08</td>\n",
              "      <td>21.000000</td>\n",
              "      <td>5.000000</td>\n",
              "    </tr>\n",
              "  </tbody>\n",
              "</table>\n",
              "</div>\n",
              "      <button class=\"colab-df-convert\" onclick=\"convertToInteractive('df-1a67b91f-f94a-483b-ba83-2af327507a55')\"\n",
              "              title=\"Convert this dataframe to an interactive table.\"\n",
              "              style=\"display:none;\">\n",
              "        \n",
              "  <svg xmlns=\"http://www.w3.org/2000/svg\" height=\"24px\"viewBox=\"0 0 24 24\"\n",
              "       width=\"24px\">\n",
              "    <path d=\"M0 0h24v24H0V0z\" fill=\"none\"/>\n",
              "    <path d=\"M18.56 5.44l.94 2.06.94-2.06 2.06-.94-2.06-.94-.94-2.06-.94 2.06-2.06.94zm-11 1L8.5 8.5l.94-2.06 2.06-.94-2.06-.94L8.5 2.5l-.94 2.06-2.06.94zm10 10l.94 2.06.94-2.06 2.06-.94-2.06-.94-.94-2.06-.94 2.06-2.06.94z\"/><path d=\"M17.41 7.96l-1.37-1.37c-.4-.4-.92-.59-1.43-.59-.52 0-1.04.2-1.43.59L10.3 9.45l-7.72 7.72c-.78.78-.78 2.05 0 2.83L4 21.41c.39.39.9.59 1.41.59.51 0 1.02-.2 1.41-.59l7.78-7.78 2.81-2.81c.8-.78.8-2.07 0-2.86zM5.41 20L4 18.59l7.72-7.72 1.47 1.35L5.41 20z\"/>\n",
              "  </svg>\n",
              "      </button>\n",
              "      \n",
              "  <style>\n",
              "    .colab-df-container {\n",
              "      display:flex;\n",
              "      flex-wrap:wrap;\n",
              "      gap: 12px;\n",
              "    }\n",
              "\n",
              "    .colab-df-convert {\n",
              "      background-color: #E8F0FE;\n",
              "      border: none;\n",
              "      border-radius: 50%;\n",
              "      cursor: pointer;\n",
              "      display: none;\n",
              "      fill: #1967D2;\n",
              "      height: 32px;\n",
              "      padding: 0 0 0 0;\n",
              "      width: 32px;\n",
              "    }\n",
              "\n",
              "    .colab-df-convert:hover {\n",
              "      background-color: #E2EBFA;\n",
              "      box-shadow: 0px 1px 2px rgba(60, 64, 67, 0.3), 0px 1px 3px 1px rgba(60, 64, 67, 0.15);\n",
              "      fill: #174EA6;\n",
              "    }\n",
              "\n",
              "    [theme=dark] .colab-df-convert {\n",
              "      background-color: #3B4455;\n",
              "      fill: #D2E3FC;\n",
              "    }\n",
              "\n",
              "    [theme=dark] .colab-df-convert:hover {\n",
              "      background-color: #434B5C;\n",
              "      box-shadow: 0px 1px 3px 1px rgba(0, 0, 0, 0.15);\n",
              "      filter: drop-shadow(0px 1px 2px rgba(0, 0, 0, 0.3));\n",
              "      fill: #FFFFFF;\n",
              "    }\n",
              "  </style>\n",
              "\n",
              "      <script>\n",
              "        const buttonEl =\n",
              "          document.querySelector('#df-1a67b91f-f94a-483b-ba83-2af327507a55 button.colab-df-convert');\n",
              "        buttonEl.style.display =\n",
              "          google.colab.kernel.accessAllowed ? 'block' : 'none';\n",
              "\n",
              "        async function convertToInteractive(key) {\n",
              "          const element = document.querySelector('#df-1a67b91f-f94a-483b-ba83-2af327507a55');\n",
              "          const dataTable =\n",
              "            await google.colab.kernel.invokeFunction('convertToInteractive',\n",
              "                                                     [key], {});\n",
              "          if (!dataTable) return;\n",
              "\n",
              "          const docLinkHtml = 'Like what you see? Visit the ' +\n",
              "            '<a target=\"_blank\" href=https://colab.research.google.com/notebooks/data_table.ipynb>data table notebook</a>'\n",
              "            + ' to learn more about interactive tables.';\n",
              "          element.innerHTML = '';\n",
              "          dataTable['output_type'] = 'display_data';\n",
              "          await google.colab.output.renderOutput(dataTable, element);\n",
              "          const docLink = document.createElement('div');\n",
              "          docLink.innerHTML = docLinkHtml;\n",
              "          element.appendChild(docLink);\n",
              "        }\n",
              "      </script>\n",
              "    </div>\n",
              "  </div>\n",
              "  "
            ]
          },
          "metadata": {},
          "execution_count": 74
        }
      ]
    },
    {
      "cell_type": "code",
      "source": [
        "tuple = (1,2)\n",
        "tuple"
      ],
      "metadata": {
        "colab": {
          "base_uri": "https://localhost:8080/"
        },
        "id": "czcV6nNcshSg",
        "outputId": "aa6e2989-f172-4031-dc24-0e54085a35d0"
      },
      "execution_count": null,
      "outputs": [
        {
          "output_type": "execute_result",
          "data": {
            "text/plain": [
              "(1, 2)"
            ]
          },
          "metadata": {},
          "execution_count": 76
        }
      ]
    },
    {
      "cell_type": "code",
      "source": [
        "class Kendaraan:\n",
        "  def __init__(self, warna):\n",
        "    self.tipe = 'darat'\n",
        "    self.warna_kendaraan = warna\n",
        "\n",
        "  def cek_mesin(self):\n",
        "    print(f'Mesin {self.warna_kendaraan} Oke')"
      ],
      "metadata": {
        "id": "BOe8ZqYDnPAY"
      },
      "execution_count": null,
      "outputs": []
    },
    {
      "cell_type": "code",
      "source": [
        "class Car(Kendaraan):\n",
        "  def __init__(self, warna):\n",
        "    super().__init__(warna)\n",
        "    self.roda = 4\n",
        "    self.kursi = 4\n",
        "    self.engine = 1\n",
        "    self.posisi_engine = 'didepan'\n",
        "\n",
        "\n",
        "  def maju(self):\n",
        "    print(f'Mobil {self.warna} Melaju')\n",
        "\n",
        "  def rem(self):\n",
        "    print(f'Mobil {self.warna} Mengerem')\n",
        "\n",
        "\n",
        "\n"
      ],
      "metadata": {
        "id": "wQCg5iEcj1D5"
      },
      "execution_count": null,
      "outputs": []
    },
    {
      "cell_type": "code",
      "source": [
        "mobil_listrik = Car('Merah')\n",
        "mobil_listrik.cek_mesin()"
      ],
      "metadata": {
        "colab": {
          "base_uri": "https://localhost:8080/"
        },
        "id": "UjywHI7jnlU6",
        "outputId": "2f5f7877-655d-43b3-dd43-3458240f719f"
      },
      "execution_count": null,
      "outputs": [
        {
          "output_type": "stream",
          "name": "stdout",
          "text": [
            "Mesin Merah Oke\n"
          ]
        }
      ]
    },
    {
      "cell_type": "code",
      "source": [
        "type(mobil_listrik)"
      ],
      "metadata": {
        "id": "Sxg-eDp2p3Y1",
        "outputId": "4ff53d02-c8fa-4d40-d6ba-56fb4c074dd8",
        "colab": {
          "base_uri": "https://localhost:8080/"
        }
      },
      "execution_count": null,
      "outputs": [
        {
          "output_type": "execute_result",
          "data": {
            "text/plain": [
              "__main__.Car"
            ]
          },
          "metadata": {},
          "execution_count": 71
        }
      ]
    },
    {
      "cell_type": "code",
      "source": [
        "model_user = tf.saved_model.load('user_model.h5')"
      ],
      "metadata": {
        "id": "JYYXxZzl4eKq"
      },
      "execution_count": null,
      "outputs": []
    },
    {
      "cell_type": "code",
      "source": [
        "model_movie = tf.saved_model.load('movie_model.h5')"
      ],
      "metadata": {
        "id": "a7CfM4lQ4kMl"
      },
      "execution_count": null,
      "outputs": []
    },
    {
      "cell_type": "code",
      "source": [
        "model_movie.trainable = False\n",
        "model_tempat_ibadah = tf.Sequential([\n",
        "    model_movie,\n",
        "    tf.keras.layers.Dense(128, ),\n",
        "    tf.keras.layers.Dense(128, ),\n",
        "    tf.keras.layers.Dense(128, )\n",
        "])"
      ],
      "metadata": {
        "id": "WGo6RW5y4o9F"
      },
      "execution_count": null,
      "outputs": []
    },
    {
      "cell_type": "code",
      "source": [],
      "metadata": {
        "id": "K0sCDZ4J5nni"
      },
      "execution_count": null,
      "outputs": []
    }
  ]
}